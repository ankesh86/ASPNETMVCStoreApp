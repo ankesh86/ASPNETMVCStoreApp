{
  "nbformat": 4,
  "nbformat_minor": 0,
  "metadata": {
    "colab": {
      "provenance": [],
      "authorship_tag": "ABX9TyMaiS1hwOqHa95YgLkJjykG",
      "include_colab_link": true
    },
    "kernelspec": {
      "name": "python3",
      "display_name": "Python 3"
    },
    "language_info": {
      "name": "python"
    }
  },
  "cells": [
    {
      "cell_type": "markdown",
      "metadata": {
        "id": "view-in-github",
        "colab_type": "text"
      },
      "source": [
        "<a href=\"https://colab.research.google.com/github/ankesh86/ASPNETMVCStoreApp/blob/main/MLlib_Packages.ipynb\" target=\"_parent\"><img src=\"https://colab.research.google.com/assets/colab-badge.svg\" alt=\"Open In Colab\"/></a>"
      ]
    },
    {
      "cell_type": "code",
      "source": [
        "!pip install pyspark==3.4.0"
      ],
      "metadata": {
        "colab": {
          "base_uri": "https://localhost:8080/"
        },
        "id": "aft9nIL5j5Xt",
        "outputId": "3250ef62-7ce7-414d-82a2-b2f98f5b67a8"
      },
      "execution_count": 2,
      "outputs": [
        {
          "output_type": "stream",
          "name": "stdout",
          "text": [
            "Collecting pyspark==3.4.0\n",
            "  Downloading pyspark-3.4.0.tar.gz (310.8 MB)\n",
            "\u001b[2K     \u001b[90m━━━━━━━━━━━━━━━━━━━━━━━━━━━━━━━━━━━━━━━━\u001b[0m \u001b[32m310.8/310.8 MB\u001b[0m \u001b[31m2.6 MB/s\u001b[0m eta \u001b[36m0:00:00\u001b[0m\n",
            "\u001b[?25h  Preparing metadata (setup.py) ... \u001b[?25l\u001b[?25hdone\n",
            "Requirement already satisfied: py4j==0.10.9.7 in /usr/local/lib/python3.10/dist-packages (from pyspark==3.4.0) (0.10.9.7)\n",
            "Building wheels for collected packages: pyspark\n",
            "  Building wheel for pyspark (setup.py) ... \u001b[?25l\u001b[?25hdone\n",
            "  Created wheel for pyspark: filename=pyspark-3.4.0-py2.py3-none-any.whl size=311317122 sha256=444759456a892fe5333529030be62238c1ce385120bd4593b2cdd3bc3f1c6faf\n",
            "  Stored in directory: /root/.cache/pip/wheels/7b/1b/4b/3363a1d04368e7ff0d408e57ff57966fcdf00583774e761327\n",
            "Successfully built pyspark\n",
            "Installing collected packages: pyspark\n",
            "Successfully installed pyspark-3.4.0\n"
          ]
        }
      ]
    },
    {
      "cell_type": "code",
      "execution_count": 3,
      "metadata": {
        "id": "pl25QrXjh1vS"
      },
      "outputs": [],
      "source": [
        "from pyspark.sql import SparkSession\n",
        "spark = SparkSession.builder.appName('basic_stats').getOrCreate()\n"
      ]
    },
    {
      "cell_type": "code",
      "source": [
        "ls sample_data"
      ],
      "metadata": {
        "colab": {
          "base_uri": "https://localhost:8080/"
        },
        "id": "tDnNnBXLi6um",
        "outputId": "3a419276-b7f6-4b55-a59c-4d2ee023c0f7"
      },
      "execution_count": 21,
      "outputs": [
        {
          "output_type": "stream",
          "name": "stdout",
          "text": [
            "\u001b[0m\u001b[01;32manscombe.json\u001b[0m*               california_housing_train.csv  mnist_train_small.csv  Salary_Data.csv\n",
            "california_housing_test.csv  mnist_test.csv                \u001b[01;32mREADME.md\u001b[0m*\n"
          ]
        }
      ]
    },
    {
      "cell_type": "code",
      "source": [
        "df = spark.read.csv('sample_data/Salary_Data.csv',header = True, inferSchema = True)\n",
        "df.count()"
      ],
      "metadata": {
        "colab": {
          "base_uri": "https://localhost:8080/"
        },
        "id": "fRhdWdXRlkcR",
        "outputId": "ec4d848c-f69e-46ba-d7fe-61fa9a33f5b9"
      },
      "execution_count": 23,
      "outputs": [
        {
          "output_type": "execute_result",
          "data": {
            "text/plain": [
              "30"
            ]
          },
          "metadata": {},
          "execution_count": 23
        }
      ]
    },
    {
      "cell_type": "code",
      "source": [
        "df.show()"
      ],
      "metadata": {
        "colab": {
          "base_uri": "https://localhost:8080/"
        },
        "id": "K_eLiso3qmvt",
        "outputId": "b5138245-3440-4278-f85e-75512d6101b9"
      },
      "execution_count": 24,
      "outputs": [
        {
          "output_type": "stream",
          "name": "stdout",
          "text": [
            "+---------------+-------+\n",
            "|YearsExperience| Salary|\n",
            "+---------------+-------+\n",
            "|            1.1|39343.0|\n",
            "|            1.3|46205.0|\n",
            "|            1.5|37731.0|\n",
            "|            2.0|43525.0|\n",
            "|            2.2|39891.0|\n",
            "|            2.9|56642.0|\n",
            "|            3.0|60150.0|\n",
            "|            3.2|54445.0|\n",
            "|            3.2|64445.0|\n",
            "|            3.7|57189.0|\n",
            "|            3.9|63218.0|\n",
            "|            4.0|55794.0|\n",
            "|            4.0|56957.0|\n",
            "|            4.1|57081.0|\n",
            "|            4.5|61111.0|\n",
            "|            4.9|67938.0|\n",
            "|            5.1|66029.0|\n",
            "|            5.3|83088.0|\n",
            "|            5.9|81363.0|\n",
            "|            6.0|93940.0|\n",
            "+---------------+-------+\n",
            "only showing top 20 rows\n",
            "\n"
          ]
        }
      ]
    },
    {
      "cell_type": "code",
      "source": [
        "from pyspark.ml.feature import VectorAssembler\n",
        "assembler = VectorAssembler(inputCols=df.columns, outputCol=\"features\")\n",
        "df_new = assembler.transform(df)\n",
        "df_new.show()"
      ],
      "metadata": {
        "colab": {
          "base_uri": "https://localhost:8080/"
        },
        "id": "j0d2yQGUqzs4",
        "outputId": "2c553f03-10bf-41a3-da54-bbf2cbe49d09"
      },
      "execution_count": 25,
      "outputs": [
        {
          "output_type": "stream",
          "name": "stdout",
          "text": [
            "+---------------+-------+-------------+\n",
            "|YearsExperience| Salary|     features|\n",
            "+---------------+-------+-------------+\n",
            "|            1.1|39343.0|[1.1,39343.0]|\n",
            "|            1.3|46205.0|[1.3,46205.0]|\n",
            "|            1.5|37731.0|[1.5,37731.0]|\n",
            "|            2.0|43525.0|[2.0,43525.0]|\n",
            "|            2.2|39891.0|[2.2,39891.0]|\n",
            "|            2.9|56642.0|[2.9,56642.0]|\n",
            "|            3.0|60150.0|[3.0,60150.0]|\n",
            "|            3.2|54445.0|[3.2,54445.0]|\n",
            "|            3.2|64445.0|[3.2,64445.0]|\n",
            "|            3.7|57189.0|[3.7,57189.0]|\n",
            "|            3.9|63218.0|[3.9,63218.0]|\n",
            "|            4.0|55794.0|[4.0,55794.0]|\n",
            "|            4.0|56957.0|[4.0,56957.0]|\n",
            "|            4.1|57081.0|[4.1,57081.0]|\n",
            "|            4.5|61111.0|[4.5,61111.0]|\n",
            "|            4.9|67938.0|[4.9,67938.0]|\n",
            "|            5.1|66029.0|[5.1,66029.0]|\n",
            "|            5.3|83088.0|[5.3,83088.0]|\n",
            "|            5.9|81363.0|[5.9,81363.0]|\n",
            "|            6.0|93940.0|[6.0,93940.0]|\n",
            "+---------------+-------+-------------+\n",
            "only showing top 20 rows\n",
            "\n"
          ]
        }
      ]
    },
    {
      "cell_type": "code",
      "source": [],
      "metadata": {
        "id": "lRC27JFxrv7F"
      },
      "execution_count": null,
      "outputs": []
    }
  ]
}