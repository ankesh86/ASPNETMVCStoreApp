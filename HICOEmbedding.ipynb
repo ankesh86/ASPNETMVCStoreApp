{
  "nbformat": 4,
  "nbformat_minor": 0,
  "metadata": {
    "colab": {
      "provenance": [],
      "gpuType": "T4",
      "authorship_tag": "ABX9TyMvvG4aEqnyYApNC7jpMPWS",
      "include_colab_link": true
    },
    "kernelspec": {
      "name": "python3",
      "display_name": "Python 3"
    },
    "language_info": {
      "name": "python"
    },
    "accelerator": "GPU"
  },
  "cells": [
    {
      "cell_type": "markdown",
      "metadata": {
        "id": "view-in-github",
        "colab_type": "text"
      },
      "source": [
        "<a href=\"https://colab.research.google.com/github/ankesh86/ASPNETMVCStoreApp/blob/main/HICOEmbedding.ipynb\" target=\"_parent\"><img src=\"https://colab.research.google.com/assets/colab-badge.svg\" alt=\"Open In Colab\"/></a>"
      ]
    },
    {
      "cell_type": "code",
      "source": [
        "pip install git+https://github.com/openai/CLIP.git"
      ],
      "metadata": {
        "colab": {
          "base_uri": "https://localhost:8080/"
        },
        "id": "vfFonlbG6Q-f",
        "outputId": "e6674ff4-4e40-483a-ada3-20e9610142ca"
      },
      "execution_count": 2,
      "outputs": [
        {
          "output_type": "stream",
          "name": "stdout",
          "text": [
            "Collecting git+https://github.com/openai/CLIP.git\n",
            "  Cloning https://github.com/openai/CLIP.git to /tmp/pip-req-build-fcycwjmr\n",
            "  Running command git clone --filter=blob:none --quiet https://github.com/openai/CLIP.git /tmp/pip-req-build-fcycwjmr\n",
            "  Resolved https://github.com/openai/CLIP.git to commit dcba3cb2e2827b402d2701e7e1c7d9fed8a20ef1\n",
            "  Preparing metadata (setup.py) ... \u001b[?25l\u001b[?25hdone\n",
            "Collecting ftfy (from clip==1.0)\n",
            "  Downloading ftfy-6.3.1-py3-none-any.whl.metadata (7.3 kB)\n",
            "Requirement already satisfied: packaging in /usr/local/lib/python3.10/dist-packages (from clip==1.0) (24.2)\n",
            "Requirement already satisfied: regex in /usr/local/lib/python3.10/dist-packages (from clip==1.0) (2024.9.11)\n",
            "Requirement already satisfied: tqdm in /usr/local/lib/python3.10/dist-packages (from clip==1.0) (4.66.6)\n",
            "Requirement already satisfied: torch in /usr/local/lib/python3.10/dist-packages (from clip==1.0) (2.5.1+cu121)\n",
            "Requirement already satisfied: torchvision in /usr/local/lib/python3.10/dist-packages (from clip==1.0) (0.20.1+cu121)\n",
            "Requirement already satisfied: wcwidth in /usr/local/lib/python3.10/dist-packages (from ftfy->clip==1.0) (0.2.13)\n",
            "Requirement already satisfied: filelock in /usr/local/lib/python3.10/dist-packages (from torch->clip==1.0) (3.16.1)\n",
            "Requirement already satisfied: typing-extensions>=4.8.0 in /usr/local/lib/python3.10/dist-packages (from torch->clip==1.0) (4.12.2)\n",
            "Requirement already satisfied: networkx in /usr/local/lib/python3.10/dist-packages (from torch->clip==1.0) (3.4.2)\n",
            "Requirement already satisfied: jinja2 in /usr/local/lib/python3.10/dist-packages (from torch->clip==1.0) (3.1.4)\n",
            "Requirement already satisfied: fsspec in /usr/local/lib/python3.10/dist-packages (from torch->clip==1.0) (2024.10.0)\n",
            "Requirement already satisfied: sympy==1.13.1 in /usr/local/lib/python3.10/dist-packages (from torch->clip==1.0) (1.13.1)\n",
            "Requirement already satisfied: mpmath<1.4,>=1.1.0 in /usr/local/lib/python3.10/dist-packages (from sympy==1.13.1->torch->clip==1.0) (1.3.0)\n",
            "Requirement already satisfied: numpy in /usr/local/lib/python3.10/dist-packages (from torchvision->clip==1.0) (1.26.4)\n",
            "Requirement already satisfied: pillow!=8.3.*,>=5.3.0 in /usr/local/lib/python3.10/dist-packages (from torchvision->clip==1.0) (11.0.0)\n",
            "Requirement already satisfied: MarkupSafe>=2.0 in /usr/local/lib/python3.10/dist-packages (from jinja2->torch->clip==1.0) (3.0.2)\n",
            "Downloading ftfy-6.3.1-py3-none-any.whl (44 kB)\n",
            "\u001b[2K   \u001b[90m━━━━━━━━━━━━━━━━━━━━━━━━━━━━━━━━━━━━━━━━\u001b[0m \u001b[32m44.8/44.8 kB\u001b[0m \u001b[31m4.3 MB/s\u001b[0m eta \u001b[36m0:00:00\u001b[0m\n",
            "\u001b[?25hBuilding wheels for collected packages: clip\n",
            "  Building wheel for clip (setup.py) ... \u001b[?25l\u001b[?25hdone\n",
            "  Created wheel for clip: filename=clip-1.0-py3-none-any.whl size=1369489 sha256=210201d84dfcbab5b632aa19377913416247c65ebfeee506db29191c0b826760\n",
            "  Stored in directory: /tmp/pip-ephem-wheel-cache-nzjy3wgv/wheels/da/2b/4c/d6691fa9597aac8bb85d2ac13b112deb897d5b50f5ad9a37e4\n",
            "Successfully built clip\n",
            "Installing collected packages: ftfy, clip\n",
            "Successfully installed clip-1.0 ftfy-6.3.1\n"
          ]
        }
      ]
    },
    {
      "cell_type": "code",
      "execution_count": 4,
      "metadata": {
        "id": "t9SRXl1a5TLM"
      },
      "outputs": [],
      "source": [
        "import torch\n",
        "from transformers import CLIPProcessor, CLIPModel\n",
        "import json\n",
        "from tqdm import tqdm\n",
        "from torch.utils.data import DataLoader\n",
        "import clip\n",
        "from PIL import Image\n",
        "from torchvision import transforms\n",
        "import multiprocessing\n",
        "from zipfile import ZipFile\n",
        "from io import BytesIO\n",
        "import os\n",
        "import math\n",
        "from hoi_label import hico_text_label, coco_class_dict, valid_obj_ids\n",
        "import sys\n",
        "#from hico_det.hico_categories import HICO_ACTIONS, HICO_INTERACTIONS, NON_INTERACTION_IDS, HICO_OBJECTS, VERB_MAPPER\n"
      ]
    },
    {
      "cell_type": "code",
      "source": [
        "hico_verb_dict = {}\n",
        "for k,v in hico_text_label.items():\n",
        "    verb_idx, obj_idx = k[0], k[1]\n",
        "    if v.split(' ')[6] == 'a' or v.split(' ')[6] == 'an':\n",
        "        verb = v.split(' ')[5]\n",
        "    else:\n",
        "        verb = ' '.join(v.split(' ')[5:7])\n",
        "    hico_verb_dict[verb_idx+1] = verb\n",
        "\n",
        "hico_verb_dict_text = dict(zip(hico_verb_dict.keys(), hico_verb_dict.values()))\n",
        "coco_class_dict_text = dict(zip(coco_class_dict.keys(), coco_class_dict.values()))"
      ],
      "metadata": {
        "id": "X0IJXxHA5tw1"
      },
      "execution_count": 5,
      "outputs": []
    },
    {
      "cell_type": "code",
      "source": [
        "def get_categoty_name(id):\n",
        "    return coco_class_dict_text[id]"
      ],
      "metadata": {
        "id": "pxFRFMnx6f56"
      },
      "execution_count": 6,
      "outputs": []
    },
    {
      "cell_type": "code",
      "source": [
        "def get_action_name(id):\n",
        "    try:\n",
        "        action = HICO_INTERACTIONS[id]['action']\n",
        "    except:\n",
        "        print(id)\n",
        "    if action == \"and\":\n",
        "        return \"with\"\n",
        "    action_name = action.replace('_', ' ')\n",
        "    new_action_name = []\n",
        "    for str in action_name.split(' '):\n",
        "        if str in VERB_MAPPER:\n",
        "            str = VERB_MAPPER[str]\n",
        "        new_action_name.append(str)\n",
        "    return \" \".join(new_action_name)"
      ],
      "metadata": {
        "id": "IA8VLT7x6huj"
      },
      "execution_count": 7,
      "outputs": []
    },
    {
      "cell_type": "code",
      "source": [
        "def xyxy_to_xywh(bbox):\n",
        "    return [bbox[0], bbox[1], bbox[2]-bbox[0], bbox[3]-bbox[1]]"
      ],
      "metadata": {
        "id": "b6_94U3561H4"
      },
      "execution_count": 8,
      "outputs": []
    },
    {
      "cell_type": "code",
      "source": [
        "def max_bbox(box1, box2):\n",
        "    return [min(box1[0], box2[0]),\n",
        "            min(box1[1], box2[1]),\n",
        "            max(box1[2], box2[2]),\n",
        "            max(box1[3], box2[3])]"
      ],
      "metadata": {
        "id": "Y9yJAve062NN"
      },
      "execution_count": 9,
      "outputs": []
    },
    {
      "cell_type": "code",
      "source": [
        "class Base():\n",
        "    def __init__(self, image_root):\n",
        "        self.image_root = image_root\n",
        "        self.use_zip = True if image_root[-4:] == \".zip\" else False\n",
        "        if self.use_zip:\n",
        "            self.zip_dict = {}\n",
        "\n",
        "        # This is CLIP mean and std\n",
        "        # Since our image is cropped from bounding box, thus we directly resize to 224*224 without center_crop to keep obj whole information.\n",
        "        self.preprocess = transforms.Compose([\n",
        "            transforms.ToTensor(),\n",
        "            transforms.Normalize(mean=[0.48145466, 0.4578275, 0.40821073], std=[0.26862954, 0.26130258, 0.27577711])\n",
        "        ])\n",
        "\n",
        "    def fetch_zipfile(self, ziproot):\n",
        "        pid = multiprocessing.current_process().pid  # get pid of this process.\n",
        "        if pid not in self.zip_dict:\n",
        "            self.zip_dict[pid] = ZipFile(ziproot)\n",
        "        zip_file = self.zip_dict[pid]\n",
        "        return zip_file\n",
        "\n",
        "    def fetch_image(self, file_name):\n",
        "        if self.use_zip:\n",
        "            zip_file = self.fetch_zipfile(self.image_root)\n",
        "            image = Image.open(BytesIO(zip_file.read(file_name))).convert('RGB')\n",
        "        else:\n",
        "            image = Image.open(os.path.join(self.image_root, file_name)).convert('RGB')\n",
        "        return image"
      ],
      "metadata": {
        "id": "WtSIfOW565Sk"
      },
      "execution_count": 10,
      "outputs": []
    },
    {
      "cell_type": "code",
      "source": [
        "class HICODetDataset_Detection(Base):\n",
        "    def __init__(self, instances_json_path, image_root, chunk_idx, total_chunk):\n",
        "        super().__init__(image_root)\n",
        "\n",
        "        self.image_root = image_root\n",
        "        self.instances_json_path = instances_json_path\n",
        "\n",
        "        # Load all jsons\n",
        "        with open(instances_json_path, 'r') as f:\n",
        "            annos = json.load(f)\n",
        "\n",
        "        version = \"openai/clip-vit-large-patch14\"\n",
        "        self.model = CLIPModel.from_pretrained(version).cuda()\n",
        "        self.processor = CLIPProcessor.from_pretrained(version)\n",
        "\n",
        "        # clean_annotations(instances_data[\"annotations\"])\n",
        "        self.annotations = annos\n",
        "\n",
        "        # Misc\n",
        "        self.image_ids = []  # main list for selecting images\n",
        "        self.image_id_to_filename = {}  # file names used to read image\n",
        "        for anno in self.annotations:\n",
        "            image_id = int(anno['file_name'].split('.jpg')[0].split('_')[-1])\n",
        "            filename = anno['file_name']\n",
        "            self.image_ids.append(image_id)\n",
        "            self.image_id_to_filename[image_id] = filename\n",
        "\n",
        "    def __getitem__(self, index):\n",
        "        anno = self.annotations[index]\n",
        "        anno_id = int(anno['file_name'].split('.jpg')[0].split('_')[-1])\n",
        "        filename = self.image_id_to_filename[anno_id]\n",
        "        image = self.fetch_image(filename)\n",
        "\n",
        "        classes = [obj[\"category_id\"] for obj in anno[\"annotations\"]]\n",
        "\n",
        "        prompts = []\n",
        "        hois = []\n",
        "\n",
        "        for hoi in anno['hoi_annotation']:\n",
        "            print(hoi)\n",
        "            subject_annotation = anno['annotations'][hoi['subject_id']]\n",
        "            subject_category_name = get_categoty_name(subject_annotation['category_id'])\n",
        "            print('category ann : ',subject_category_name)\n",
        "            object_annotation = anno['annotations'][hoi['object_id']]\n",
        "            object_category_name = get_categoty_name(object_annotation['category_id'])\n",
        "            print('object ann : ',object_annotation)\n",
        "\n",
        "            action_id = hoi[\"category_id\"] - 1  # Starting from 1\n",
        "            target_id = hoi[\"object_id\"]\n",
        "\n",
        "            sub = hoi['subject_id']\n",
        "            obj = hoi['object_id'] # annotation idx\n",
        "            verb_id = hoi['category_id']\n",
        "            object_id = anno['annotations'][obj]['category_id'] # obj bbox annotations idx\n",
        "\n",
        "            text_hoi = hico_text_label[(verb_id-1, valid_obj_ids.index(object_id))] # 'a photo of ~ '\n",
        "            action_name = hico_verb_dict_text[verb_id]\n",
        "\n",
        "            subject_image_crop = self.preprocess(image.crop(subject_annotation['bbox']).resize((224, 224), Image.BICUBIC))\n",
        "            object_image_crop = self.preprocess(image.crop(object_annotation['bbox']).resize((224, 224), Image.BICUBIC))\n",
        "            #max_bbox\n",
        "            action_image_crop = self.preprocess(image.crop(max_bbox(subject_annotation['bbox'], object_annotation['bbox'])).resize((224, 224), Image.BICUBIC))  # not using\n",
        "            prompts.append(f\"a {subject_category_name} is {action_name} a {object_category_name}\")\n",
        "\n",
        "\n",
        "            with torch.no_grad():\n",
        "                inputs = self.processor(text=[subject_category_name, object_category_name, action_name], return_tensors=\"pt\", padding=True)\n",
        "                inputs['input_ids'] = inputs['input_ids'].cuda()\n",
        "                inputs['pixel_values'] = torch.stack([subject_image_crop, object_image_crop, action_image_crop]).cuda()  # we use our own preprocessing without center_crop\n",
        "                inputs['attention_mask'] = inputs['attention_mask'].cuda()\n",
        "                outputs = self.model(**inputs)\n",
        "\n",
        "            text_before_features = outputs.text_model_output.pooler_output  # before projection feature\n",
        "            text_after_features = outputs.text_embeds  # normalized after projection feature (CLIP aligned space)\n",
        "\n",
        "            image_before_features = outputs.vision_model_output.pooler_output  # before projection feature\n",
        "            image_after_features = outputs.image_embeds  # normalized after projection feature (CLIP aligned space)\n",
        "\n",
        "            hois.append({\n",
        "                'subject_xywh': xyxy_to_xywh(subject_annotation['bbox']),\n",
        "                'object_xywh': xyxy_to_xywh(object_annotation['bbox']),\n",
        "                'action': action_name,\n",
        "                'subject': subject_category_name,\n",
        "                'object': object_category_name,\n",
        "\n",
        "                'subject_text_embedding_before': text_before_features[0].cpu(),\n",
        "                'subject_text_embedding_after': text_after_features[0].cpu(),\n",
        "                'subject_image_embedding_before': image_before_features[0].cpu(),  # not using\n",
        "                'subject_image_embedding_after': image_after_features[0].cpu(),  # not using\n",
        "                'object_text_embedding_before': text_before_features[1].cpu(),\n",
        "                'object_text_embedding_after': text_after_features[1].cpu(),\n",
        "                'object_image_embedding_before': image_before_features[1].cpu(),  # not using\n",
        "                'object_image_embedding_after': image_after_features[1].cpu(),  # not using\n",
        "                'action_text_embedding_before': text_before_features[2].cpu(),\n",
        "                'action_text_embedding_after': text_after_features[2].cpu(),\n",
        "                'action_image_embedding_before': image_before_features[2].cpu(),  # not using\n",
        "                'action_image_embedding_after': image_after_features[2].cpu()  # not using\n",
        "            })\n",
        "            del image_before_features, image_after_features, text_before_features, text_after_features, outputs, inputs\n",
        "        return {'file_name': anno['file_name'],\n",
        "                'anno_id': anno_id,\n",
        "                'image': image,\n",
        "                'data_id': anno_id,\n",
        "                'caption': \", \".join(prompts),\n",
        "                'hois': hois\n",
        "               }\n",
        "\n",
        "    def __len__(self):\n",
        "        return len(self.annotations)\n"
      ],
      "metadata": {
        "id": "95b9afjR7dAB"
      },
      "execution_count": 18,
      "outputs": []
    },
    {
      "cell_type": "code",
      "source": [
        "dataset_root = \"hico\"\n",
        "annotation_filename = \"annotations/test_hico.json\"\n",
        "annotation_path = os.path.join(dataset_root, annotation_filename)\n",
        "image_root = os.path.join(dataset_root, \"images\", \"test2015\")\n",
        "print(annotation_path)\n",
        "print(image_root)"
      ],
      "metadata": {
        "colab": {
          "base_uri": "https://localhost:8080/"
        },
        "id": "Yv_xRFCj7tbF",
        "outputId": "57575e92-2224-4c55-ae81-de4b6029dd3a"
      },
      "execution_count": 12,
      "outputs": [
        {
          "output_type": "stream",
          "name": "stdout",
          "text": [
            "hico/annotations/test_hico.json\n",
            "hico/images/test2015\n"
          ]
        }
      ]
    },
    {
      "cell_type": "code",
      "source": [
        "dataset = HICODetDataset_Detection(annotation_path, image_root, None, None)\n",
        "\n",
        "save_root = \"hico_det_clip_test\"\n",
        "os.makedirs(save_root, exist_ok=True)\n",
        "for d in tqdm(dataset):\n",
        "    torch.save(d, os.path.join(save_root, f\"embed_{d['anno_id']}.clip.pt\"))"
      ],
      "metadata": {
        "colab": {
          "base_uri": "https://localhost:8080/"
        },
        "id": "PSyqlen98ONH",
        "outputId": "e723dc76-5754-426c-ba8e-b1c6b3aa2b18"
      },
      "execution_count": 19,
      "outputs": [
        {
          "output_type": "stream",
          "name": "stderr",
          "text": [
            "\r  0%|          | 0/100 [00:00<?, ?it/s]"
          ]
        },
        {
          "output_type": "stream",
          "name": "stdout",
          "text": [
            "{'subject_id': 0, 'object_id': 1, 'category_id': 88}\n",
            "category ann :  person\n",
            "object ann :  {'bbox': [148, 345, 376, 414], 'category_id': 15}\n"
          ]
        },
        {
          "output_type": "stream",
          "name": "stderr",
          "text": [
            "\r  1%|          | 1/100 [00:00<00:42,  2.33it/s]"
          ]
        },
        {
          "output_type": "stream",
          "name": "stdout",
          "text": [
            "{'subject_id': 2, 'object_id': 1, 'category_id': 88}\n",
            "category ann :  person\n",
            "object ann :  {'bbox': [148, 345, 376, 414], 'category_id': 15}\n",
            "{'subject_id': 0, 'object_id': 1, 'category_id': 37}\n",
            "category ann :  person\n",
            "object ann :  {'bbox': [174, 65, 393, 440], 'category_id': 19}\n",
            "{'subject_id': 2, 'object_id': 3, 'category_id': 77}\n",
            "category ann :  person\n",
            "object ann :  {'bbox': [186, 62, 392, 438], 'category_id': 19}\n",
            "{'subject_id': 4, 'object_id': 5, 'category_id': 111}\n",
            "category ann :  person\n",
            "object ann :  {'bbox': [179, 61, 433, 374], 'category_id': 19}\n"
          ]
        },
        {
          "output_type": "stream",
          "name": "stderr",
          "text": [
            "\r  2%|▏         | 2/100 [00:00<00:49,  1.99it/s]"
          ]
        },
        {
          "output_type": "stream",
          "name": "stdout",
          "text": [
            "{'subject_id': 0, 'object_id': 1, 'category_id': 77}\n",
            "category ann :  person\n",
            "object ann :  {'bbox': [234, 85, 444, 298], 'category_id': 9}\n"
          ]
        },
        {
          "output_type": "stream",
          "name": "stderr",
          "text": [
            "\r  3%|▎         | 3/100 [00:01<00:35,  2.71it/s]"
          ]
        },
        {
          "output_type": "stream",
          "name": "stdout",
          "text": [
            "{'subject_id': 0, 'object_id': 1, 'category_id': 77}\n",
            "category ann :  person\n",
            "object ann :  {'bbox': [338, 109, 574, 247], 'category_id': 4}\n",
            "{'subject_id': 2, 'object_id': 1, 'category_id': 77}\n",
            "category ann :  person\n",
            "object ann :  {'bbox': [338, 109, 574, 247], 'category_id': 4}\n",
            "{'subject_id': 3, 'object_id': 4, 'category_id': 77}\n",
            "category ann :  person\n",
            "object ann :  {'bbox': [110, 183, 501, 364], 'category_id': 4}\n",
            "{'subject_id': 5, 'object_id': 4, 'category_id': 77}\n",
            "category ann :  person\n",
            "object ann :  {'bbox': [110, 183, 501, 364], 'category_id': 4}\n",
            "{'subject_id': 6, 'object_id': 7, 'category_id': 88}\n",
            "category ann :  person\n",
            "object ann :  {'bbox': [350, 117, 591, 242], 'category_id': 4}\n",
            "{'subject_id': 8, 'object_id': 9, 'category_id': 88}\n",
            "category ann :  person\n",
            "object ann :  {'bbox': [116, 151, 456, 384], 'category_id': 4}\n"
          ]
        },
        {
          "output_type": "stream",
          "name": "stderr",
          "text": [
            "\r  4%|▍         | 4/100 [00:02<01:05,  1.47it/s]"
          ]
        },
        {
          "output_type": "stream",
          "name": "stdout",
          "text": [
            "{'subject_id': 0, 'object_id': 1, 'category_id': 9}\n",
            "category ann :  person\n",
            "object ann :  {'bbox': [197, 167, 466, 638], 'category_id': 27}\n",
            "{'subject_id': 2, 'object_id': 3, 'category_id': 115}\n",
            "category ann :  person\n",
            "object ann :  {'bbox': [327, 165, 470, 524], 'category_id': 27}\n"
          ]
        },
        {
          "output_type": "stream",
          "name": "stderr",
          "text": [
            "  6%|▌         | 6/100 [00:02<00:42,  2.21it/s]"
          ]
        },
        {
          "output_type": "stream",
          "name": "stdout",
          "text": [
            "{'subject_id': 0, 'object_id': 1, 'category_id': 50}\n",
            "category ann :  person\n",
            "object ann :  {'bbox': [28, 213, 636, 477], 'category_id': 15}\n",
            "{'subject_id': 0, 'object_id': 1, 'category_id': 25}\n",
            "category ann :  person\n",
            "object ann :  {'bbox': [16, 247, 521, 422], 'category_id': 67}\n",
            "{'subject_id': 2, 'object_id': 1, 'category_id': 25}\n",
            "category ann :  person\n",
            "object ann :  {'bbox': [16, 247, 521, 422], 'category_id': 67}\n",
            "{'subject_id': 3, 'object_id': 1, 'category_id': 25}\n",
            "category ann :  person\n",
            "object ann :  {'bbox': [16, 247, 521, 422], 'category_id': 67}\n",
            "{'subject_id': 4, 'object_id': 1, 'category_id': 25}\n",
            "category ann :  person\n",
            "object ann :  {'bbox': [16, 247, 521, 422], 'category_id': 67}\n",
            "{'subject_id': 5, 'object_id': 6, 'category_id': 87}\n",
            "category ann :  person\n",
            "object ann :  {'bbox': [2, 239, 522, 423], 'category_id': 67}\n"
          ]
        },
        {
          "output_type": "stream",
          "name": "stderr",
          "text": [
            "\r  7%|▋         | 7/100 [00:03<00:58,  1.59it/s]"
          ]
        },
        {
          "output_type": "stream",
          "name": "stdout",
          "text": [
            "{'subject_id': 0, 'object_id': 1, 'category_id': 58}\n",
            "category ann :  person\n",
            "object ann :  {'bbox': [347, 106, 541, 267], 'category_id': 4}\n",
            "{'subject_id': 0, 'object_id': 2, 'category_id': 58}\n",
            "category ann :  person\n",
            "object ann :  {'bbox': [118, 72, 520, 478], 'category_id': 4}\n"
          ]
        },
        {
          "output_type": "stream",
          "name": "stderr",
          "text": [
            "  9%|▉         | 9/100 [00:04<00:40,  2.27it/s]"
          ]
        },
        {
          "output_type": "stream",
          "name": "stdout",
          "text": [
            "{'subject_id': 0, 'object_id': 1, 'category_id': 4}\n",
            "category ann :  person\n",
            "object ann :  {'bbox': [65, 474, 334, 627], 'category_id': 61}\n",
            "{'subject_id': 0, 'object_id': 1, 'category_id': 58}\n",
            "category ann :  person\n",
            "object ann :  {'bbox': [378, 114, 398, 131], 'category_id': 62}\n",
            "{'subject_id': 0, 'object_id': 2, 'category_id': 58}\n",
            "category ann :  person\n",
            "object ann :  {'bbox': [446, 106, 475, 169], 'category_id': 62}\n",
            "{'subject_id': 0, 'object_id': 3, 'category_id': 58}\n",
            "category ann :  person\n",
            "object ann :  {'bbox': [404, 110, 433, 182], 'category_id': 62}\n",
            "{'subject_id': 0, 'object_id': 4, 'category_id': 58}\n",
            "category ann :  person\n",
            "object ann :  {'bbox': [282, 117, 318, 190], 'category_id': 62}\n",
            "{'subject_id': 5, 'object_id': 1, 'category_id': 58}\n",
            "category ann :  person\n",
            "object ann :  {'bbox': [378, 114, 398, 131], 'category_id': 62}\n",
            "{'subject_id': 5, 'object_id': 2, 'category_id': 58}\n",
            "category ann :  person\n",
            "object ann :  {'bbox': [446, 106, 475, 169], 'category_id': 62}\n",
            "{'subject_id': 5, 'object_id': 3, 'category_id': 58}\n",
            "category ann :  person\n",
            "object ann :  {'bbox': [404, 110, 433, 182], 'category_id': 62}\n",
            "{'subject_id': 5, 'object_id': 4, 'category_id': 58}\n",
            "category ann :  person\n",
            "object ann :  {'bbox': [282, 117, 318, 190], 'category_id': 62}\n",
            "{'subject_id': 6, 'object_id': 1, 'category_id': 58}\n",
            "category ann :  person\n",
            "object ann :  {'bbox': [378, 114, 398, 131], 'category_id': 62}\n",
            "{'subject_id': 6, 'object_id': 2, 'category_id': 58}\n",
            "category ann :  person\n",
            "object ann :  {'bbox': [446, 106, 475, 169], 'category_id': 62}\n",
            "{'subject_id': 6, 'object_id': 3, 'category_id': 58}\n",
            "category ann :  person\n",
            "object ann :  {'bbox': [404, 110, 433, 182], 'category_id': 62}\n",
            "{'subject_id': 6, 'object_id': 4, 'category_id': 58}\n",
            "category ann :  person\n",
            "object ann :  {'bbox': [282, 117, 318, 190], 'category_id': 62}\n",
            "{'subject_id': 7, 'object_id': 1, 'category_id': 58}\n",
            "category ann :  person\n",
            "object ann :  {'bbox': [378, 114, 398, 131], 'category_id': 62}\n",
            "{'subject_id': 7, 'object_id': 2, 'category_id': 58}\n",
            "category ann :  person\n",
            "object ann :  {'bbox': [446, 106, 475, 169], 'category_id': 62}\n",
            "{'subject_id': 7, 'object_id': 3, 'category_id': 58}\n",
            "category ann :  person\n",
            "object ann :  {'bbox': [404, 110, 433, 182], 'category_id': 62}\n",
            "{'subject_id': 7, 'object_id': 4, 'category_id': 58}\n",
            "category ann :  person\n",
            "object ann :  {'bbox': [282, 117, 318, 190], 'category_id': 62}\n"
          ]
        },
        {
          "output_type": "stream",
          "name": "stderr",
          "text": [
            "\r 10%|█         | 10/100 [00:07<01:53,  1.26s/it]"
          ]
        },
        {
          "output_type": "stream",
          "name": "stdout",
          "text": [
            "{'subject_id': 0, 'object_id': 1, 'category_id': 9}\n",
            "category ann :  person\n",
            "object ann :  {'bbox': [130, 232, 291, 417], 'category_id': 38}\n",
            "{'subject_id': 2, 'object_id': 3, 'category_id': 37}\n",
            "category ann :  person\n",
            "object ann :  {'bbox': [122, 210, 291, 413], 'category_id': 38}\n"
          ]
        },
        {
          "output_type": "stream",
          "name": "stderr",
          "text": [
            "\r 11%|█         | 11/100 [00:08<01:28,  1.01it/s]"
          ]
        },
        {
          "output_type": "stream",
          "name": "stdout",
          "text": [
            "{'subject_id': 0, 'object_id': 1, 'category_id': 9}\n",
            "category ann :  person\n",
            "object ann :  {'bbox': [147, 158, 211, 228], 'category_id': 37}\n",
            "{'subject_id': 2, 'object_id': 3, 'category_id': 37}\n",
            "category ann :  person\n",
            "object ann :  {'bbox': [150, 148, 225, 230], 'category_id': 37}\n",
            "{'subject_id': 4, 'object_id': 5, 'category_id': 105}\n",
            "category ann :  person\n",
            "object ann :  {'bbox': [143, 156, 221, 235], 'category_id': 37}\n"
          ]
        },
        {
          "output_type": "stream",
          "name": "stderr",
          "text": [
            "\r 12%|█▏        | 12/100 [00:08<01:16,  1.14it/s]"
          ]
        },
        {
          "output_type": "stream",
          "name": "stdout",
          "text": [
            "{'subject_id': 0, 'object_id': 1, 'category_id': 29}\n",
            "category ann :  person\n",
            "object ann :  {'bbox': [134, 140, 190, 241], 'category_id': 41}\n",
            "{'subject_id': 2, 'object_id': 3, 'category_id': 44}\n",
            "category ann :  person\n",
            "object ann :  {'bbox': [136, 138, 179, 242], 'category_id': 41}\n"
          ]
        },
        {
          "output_type": "stream",
          "name": "stderr",
          "text": [
            "\r 13%|█▎        | 13/100 [00:09<01:03,  1.37it/s]"
          ]
        },
        {
          "output_type": "stream",
          "name": "stdout",
          "text": [
            "{'subject_id': 0, 'object_id': 1, 'category_id': 37}\n",
            "category ann :  person\n",
            "object ann :  {'bbox': [274, 80, 447, 173], 'category_id': 22}\n",
            "{'subject_id': 0, 'object_id': 2, 'category_id': 37}\n",
            "category ann :  person\n",
            "object ann :  {'bbox': [313, 109, 638, 240], 'category_id': 22}\n",
            "{'subject_id': 0, 'object_id': 3, 'category_id': 37}\n",
            "category ann :  person\n",
            "object ann :  {'bbox': [10, 107, 631, 442], 'category_id': 22}\n",
            "{'subject_id': 4, 'object_id': 5, 'category_id': 77}\n",
            "category ann :  person\n",
            "object ann :  {'bbox': [197, 85, 432, 168], 'category_id': 22}\n",
            "{'subject_id': 6, 'object_id': 7, 'category_id': 113}\n",
            "category ann :  person\n",
            "object ann :  {'bbox': [150, 93, 638, 298], 'category_id': 22}\n",
            "{'subject_id': 6, 'object_id': 8, 'category_id': 113}\n",
            "category ann :  person\n",
            "object ann :  {'bbox': [1, 130, 638, 435], 'category_id': 22}\n"
          ]
        },
        {
          "output_type": "stream",
          "name": "stderr",
          "text": [
            " 15%|█▌        | 15/100 [00:10<00:56,  1.51it/s]"
          ]
        },
        {
          "output_type": "stream",
          "name": "stdout",
          "text": [
            "{'subject_id': 0, 'object_id': 1, 'category_id': 58}\n",
            "category ann :  person\n",
            "object ann :  {'bbox': [427, 119, 491, 173], 'category_id': 64}\n",
            "{'subject_id': 0, 'object_id': 1, 'category_id': 115}\n",
            "category ann :  person\n",
            "object ann :  {'bbox': [357, 106, 408, 281], 'category_id': 32}\n"
          ]
        },
        {
          "output_type": "stream",
          "name": "stderr",
          "text": [
            "\r 16%|█▌        | 16/100 [00:10<00:44,  1.91it/s]"
          ]
        },
        {
          "output_type": "stream",
          "name": "stdout",
          "text": [
            "{'subject_id': 0, 'object_id': 1, 'category_id': 37}\n",
            "category ann :  person\n",
            "object ann :  {'bbox': [392, 128, 633, 340], 'category_id': 40}\n",
            "{'subject_id': 2, 'object_id': 3, 'category_id': 115}\n",
            "category ann :  person\n",
            "object ann :  {'bbox': [394, 134, 632, 342], 'category_id': 40}\n"
          ]
        },
        {
          "output_type": "stream",
          "name": "stderr",
          "text": [
            "\r 17%|█▋        | 17/100 [00:10<00:40,  2.06it/s]"
          ]
        },
        {
          "output_type": "stream",
          "name": "stdout",
          "text": [
            "{'subject_id': 0, 'object_id': 1, 'category_id': 5}\n",
            "category ann :  person\n",
            "object ann :  {'bbox': [110, 190, 426, 398], 'category_id': 7}\n",
            "{'subject_id': 2, 'object_id': 1, 'category_id': 5}\n",
            "category ann :  person\n",
            "object ann :  {'bbox': [110, 190, 426, 398], 'category_id': 7}\n",
            "{'subject_id': 3, 'object_id': 1, 'category_id': 5}\n",
            "category ann :  person\n",
            "object ann :  {'bbox': [110, 190, 426, 398], 'category_id': 7}\n",
            "{'subject_id': 4, 'object_id': 1, 'category_id': 5}\n",
            "category ann :  person\n",
            "object ann :  {'bbox': [110, 190, 426, 398], 'category_id': 7}\n",
            "{'subject_id': 5, 'object_id': 6, 'category_id': 77}\n",
            "category ann :  person\n",
            "object ann :  {'bbox': [110, 189, 424, 396], 'category_id': 7}\n"
          ]
        },
        {
          "output_type": "stream",
          "name": "stderr",
          "text": [
            " 19%|█▉        | 19/100 [00:12<00:41,  1.97it/s]"
          ]
        },
        {
          "output_type": "stream",
          "name": "stdout",
          "text": [
            "{'subject_id': 0, 'object_id': 1, 'category_id': 112}\n",
            "category ann :  person\n",
            "object ann :  {'bbox': [177, 18, 605, 361], 'category_id': 6}\n"
          ]
        },
        {
          "output_type": "stream",
          "name": "stderr",
          "text": [
            "\r 20%|██        | 20/100 [00:12<00:33,  2.40it/s]"
          ]
        },
        {
          "output_type": "stream",
          "name": "stdout",
          "text": [
            "{'subject_id': 0, 'object_id': 1, 'category_id': 50}\n",
            "category ann :  person\n",
            "object ann :  {'bbox': [1, 129, 636, 477], 'category_id': 65}\n"
          ]
        },
        {
          "output_type": "stream",
          "name": "stderr",
          "text": [
            "\r 21%|██        | 21/100 [00:12<00:27,  2.83it/s]"
          ]
        },
        {
          "output_type": "stream",
          "name": "stdout",
          "text": [
            "{'subject_id': 0, 'object_id': 1, 'category_id': 103}\n",
            "category ann :  person\n",
            "object ann :  {'bbox': [99, 24, 378, 389], 'category_id': 1}\n",
            "{'subject_id': 0, 'object_id': 1, 'category_id': 9}\n",
            "category ann :  person\n",
            "object ann :  {'bbox': [58, 82, 409, 220], 'category_id': 28}\n",
            "{'subject_id': 2, 'object_id': 3, 'category_id': 37}\n",
            "category ann :  person\n",
            "object ann :  {'bbox': [58, 75, 407, 226], 'category_id': 28}\n",
            "{'subject_id': 4, 'object_id': 5, 'category_id': 95}\n",
            "category ann :  person\n",
            "object ann :  {'bbox': [56, 72, 415, 226], 'category_id': 28}\n"
          ]
        },
        {
          "output_type": "stream",
          "name": "stderr",
          "text": [
            "\r 22%|██▏       | 22/100 [00:13<00:33,  2.34it/s]"
          ]
        },
        {
          "output_type": "stream",
          "name": "stdout",
          "text": [
            "{'subject_id': 0, 'object_id': 1, 'category_id': 31}\n",
            "category ann :  person\n",
            "object ann :  {'bbox': [331, 31, 423, 162], 'category_id': 38}\n",
            "{'subject_id': 2, 'object_id': 3, 'category_id': 31}\n",
            "category ann :  person\n",
            "object ann :  {'bbox': [38, 94, 130, 149], 'category_id': 38}\n",
            "{'subject_id': 4, 'object_id': 5, 'category_id': 31}\n",
            "category ann :  person\n",
            "object ann :  {'bbox': [1, 120, 23, 179], 'category_id': 38}\n",
            "{'subject_id': 6, 'object_id': 7, 'category_id': 31}\n",
            "category ann :  person\n",
            "object ann :  {'bbox': [89, 26, 349, 227], 'category_id': 38}\n",
            "{'subject_id': 8, 'object_id': 9, 'category_id': 37}\n",
            "category ann :  person\n",
            "object ann :  {'bbox': [90, 54, 348, 311], 'category_id': 38}\n",
            "{'subject_id': 10, 'object_id': 11, 'category_id': 48}\n",
            "category ann :  person\n",
            "object ann :  {'bbox': [93, 48, 355, 303], 'category_id': 38}\n",
            "{'subject_id': 12, 'object_id': 13, 'category_id': 71}\n",
            "category ann :  person\n",
            "object ann :  {'bbox': [98, 56, 343, 219], 'category_id': 38}\n"
          ]
        },
        {
          "output_type": "stream",
          "name": "stderr",
          "text": [
            "\r 23%|██▎       | 23/100 [00:14<00:55,  1.38it/s]"
          ]
        },
        {
          "output_type": "stream",
          "name": "stdout",
          "text": [
            "{'subject_id': 0, 'object_id': 1, 'category_id': 37}\n",
            "category ann :  person\n",
            "object ann :  {'bbox': [99, 41, 207, 241], 'category_id': 39}\n",
            "{'subject_id': 2, 'object_id': 3, 'category_id': 116}\n",
            "category ann :  person\n",
            "object ann :  {'bbox': [120, 43, 181, 235], 'category_id': 39}\n"
          ]
        },
        {
          "output_type": "stream",
          "name": "stderr",
          "text": [
            "\r 24%|██▍       | 24/100 [00:15<00:47,  1.59it/s]"
          ]
        },
        {
          "output_type": "stream",
          "name": "stdout",
          "text": [
            "{'subject_id': 0, 'object_id': 1, 'category_id': 66}\n",
            "category ann :  person\n",
            "object ann :  {'bbox': [103, 1, 424, 472], 'category_id': 25}\n"
          ]
        },
        {
          "output_type": "stream",
          "name": "stderr",
          "text": [
            "\r 25%|██▌       | 25/100 [00:15<00:37,  1.98it/s]"
          ]
        },
        {
          "output_type": "stream",
          "name": "stdout",
          "text": [
            "{'subject_id': 0, 'object_id': 1, 'category_id': 77}\n",
            "category ann :  person\n",
            "object ann :  {'bbox': [3, 4, 637, 372], 'category_id': 9}\n",
            "{'subject_id': 2, 'object_id': 3, 'category_id': 78}\n",
            "category ann :  person\n",
            "object ann :  {'bbox': [1, 190, 638, 361], 'category_id': 9}\n",
            "{'subject_id': 4, 'object_id': 3, 'category_id': 78}\n",
            "category ann :  person\n",
            "object ann :  {'bbox': [1, 190, 638, 361], 'category_id': 9}\n",
            "{'subject_id': 5, 'object_id': 3, 'category_id': 78}\n",
            "category ann :  person\n",
            "object ann :  {'bbox': [1, 190, 638, 361], 'category_id': 9}\n",
            "{'subject_id': 6, 'object_id': 3, 'category_id': 78}\n",
            "category ann :  person\n",
            "object ann :  {'bbox': [1, 190, 638, 361], 'category_id': 9}\n",
            "{'subject_id': 7, 'object_id': 3, 'category_id': 78}\n",
            "category ann :  person\n",
            "object ann :  {'bbox': [1, 190, 638, 361], 'category_id': 9}\n",
            "{'subject_id': 8, 'object_id': 9, 'category_id': 88}\n",
            "category ann :  person\n",
            "object ann :  {'bbox': [4, 216, 631, 352], 'category_id': 9}\n",
            "{'subject_id': 10, 'object_id': 9, 'category_id': 88}\n",
            "category ann :  person\n",
            "object ann :  {'bbox': [4, 216, 631, 352], 'category_id': 9}\n",
            "{'subject_id': 11, 'object_id': 9, 'category_id': 88}\n",
            "category ann :  person\n",
            "object ann :  {'bbox': [4, 216, 631, 352], 'category_id': 9}\n",
            "{'subject_id': 12, 'object_id': 9, 'category_id': 88}\n",
            "category ann :  person\n",
            "object ann :  {'bbox': [4, 216, 631, 352], 'category_id': 9}\n",
            "{'subject_id': 13, 'object_id': 9, 'category_id': 88}\n",
            "category ann :  person\n",
            "object ann :  {'bbox': [4, 216, 631, 352], 'category_id': 9}\n",
            "{'subject_id': 14, 'object_id': 9, 'category_id': 88}\n",
            "category ann :  person\n",
            "object ann :  {'bbox': [4, 216, 631, 352], 'category_id': 9}\n",
            "{'subject_id': 15, 'object_id': 9, 'category_id': 88}\n",
            "category ann :  person\n",
            "object ann :  {'bbox': [4, 216, 631, 352], 'category_id': 9}\n"
          ]
        },
        {
          "output_type": "stream",
          "name": "stderr",
          "text": [
            " 27%|██▋       | 27/100 [00:18<01:01,  1.18it/s]"
          ]
        },
        {
          "output_type": "stream",
          "name": "stdout",
          "text": [
            "{'subject_id': 0, 'object_id': 1, 'category_id': 58}\n",
            "category ann :  person\n",
            "object ann :  {'bbox': [70, 38, 559, 435], 'category_id': 4}\n",
            "{'subject_id': 0, 'object_id': 1, 'category_id': 77}\n",
            "category ann :  person\n",
            "object ann :  {'bbox': [215, 165, 594, 376], 'category_id': 19}\n",
            "{'subject_id': 2, 'object_id': 3, 'category_id': 99}\n",
            "category ann :  person\n",
            "object ann :  {'bbox': [217, 174, 543, 378], 'category_id': 19}\n"
          ]
        },
        {
          "output_type": "stream",
          "name": "stderr",
          "text": [
            "\r 28%|██▊       | 28/100 [00:18<00:51,  1.40it/s]"
          ]
        },
        {
          "output_type": "stream",
          "name": "stdout",
          "text": [
            "{'subject_id': 0, 'object_id': 1, 'category_id': 37}\n",
            "category ann :  person\n",
            "object ann :  {'bbox': [5, 208, 54, 302], 'category_id': 73}\n",
            "{'subject_id': 2, 'object_id': 3, 'category_id': 37}\n",
            "category ann :  person\n",
            "object ann :  {'bbox': [120, 273, 221, 325], 'category_id': 73}\n",
            "{'subject_id': 4, 'object_id': 5, 'category_id': 74}\n",
            "category ann :  person\n",
            "object ann :  {'bbox': [2, 211, 85, 310], 'category_id': 73}\n",
            "{'subject_id': 6, 'object_id': 7, 'category_id': 74}\n",
            "category ann :  person\n",
            "object ann :  {'bbox': [109, 263, 238, 338], 'category_id': 73}\n"
          ]
        },
        {
          "output_type": "stream",
          "name": "stderr",
          "text": [
            "\r 29%|██▉       | 29/100 [00:19<00:52,  1.36it/s]"
          ]
        },
        {
          "output_type": "stream",
          "name": "stdout",
          "text": [
            "{'subject_id': 0, 'object_id': 1, 'category_id': 25}\n",
            "category ann :  person\n",
            "object ann :  {'bbox': [62, 207, 591, 428], 'category_id': 67}\n",
            "{'subject_id': 2, 'object_id': 1, 'category_id': 25}\n",
            "category ann :  person\n",
            "object ann :  {'bbox': [62, 207, 591, 428], 'category_id': 67}\n",
            "{'subject_id': 3, 'object_id': 1, 'category_id': 25}\n",
            "category ann :  person\n",
            "object ann :  {'bbox': [62, 207, 591, 428], 'category_id': 67}\n",
            "{'subject_id': 4, 'object_id': 1, 'category_id': 25}\n",
            "category ann :  person\n",
            "object ann :  {'bbox': [62, 207, 591, 428], 'category_id': 67}\n",
            "{'subject_id': 5, 'object_id': 1, 'category_id': 25}\n",
            "category ann :  person\n",
            "object ann :  {'bbox': [62, 207, 591, 428], 'category_id': 67}\n",
            "{'subject_id': 6, 'object_id': 7, 'category_id': 87}\n",
            "category ann :  person\n",
            "object ann :  {'bbox': [58, 227, 615, 429], 'category_id': 67}\n",
            "{'subject_id': 8, 'object_id': 7, 'category_id': 87}\n",
            "category ann :  person\n",
            "object ann :  {'bbox': [58, 227, 615, 429], 'category_id': 67}\n",
            "{'subject_id': 9, 'object_id': 7, 'category_id': 87}\n",
            "category ann :  person\n",
            "object ann :  {'bbox': [58, 227, 615, 429], 'category_id': 67}\n",
            "{'subject_id': 10, 'object_id': 7, 'category_id': 87}\n",
            "category ann :  person\n",
            "object ann :  {'bbox': [58, 227, 615, 429], 'category_id': 67}\n",
            "{'subject_id': 11, 'object_id': 7, 'category_id': 87}\n",
            "category ann :  person\n",
            "object ann :  {'bbox': [58, 227, 615, 429], 'category_id': 67}\n"
          ]
        },
        {
          "output_type": "stream",
          "name": "stderr",
          "text": [
            "\r 30%|███       | 30/100 [00:21<01:17,  1.10s/it]"
          ]
        },
        {
          "output_type": "stream",
          "name": "stdout",
          "text": [
            "{'subject_id': 0, 'object_id': 1, 'category_id': 77}\n",
            "category ann :  person\n",
            "object ann :  {'bbox': [230, 243, 298, 254], 'category_id': 9}\n",
            "{'subject_id': 2, 'object_id': 1, 'category_id': 77}\n",
            "category ann :  person\n",
            "object ann :  {'bbox': [230, 243, 298, 254], 'category_id': 9}\n",
            "{'subject_id': 3, 'object_id': 1, 'category_id': 77}\n",
            "category ann :  person\n",
            "object ann :  {'bbox': [230, 243, 298, 254], 'category_id': 9}\n",
            "{'subject_id': 4, 'object_id': 1, 'category_id': 77}\n",
            "category ann :  person\n",
            "object ann :  {'bbox': [230, 243, 298, 254], 'category_id': 9}\n",
            "{'subject_id': 5, 'object_id': 6, 'category_id': 77}\n",
            "category ann :  person\n",
            "object ann :  {'bbox': [386, 230, 475, 253], 'category_id': 9}\n",
            "{'subject_id': 7, 'object_id': 6, 'category_id': 77}\n",
            "category ann :  person\n",
            "object ann :  {'bbox': [386, 230, 475, 253], 'category_id': 9}\n",
            "{'subject_id': 8, 'object_id': 9, 'category_id': 77}\n",
            "category ann :  person\n",
            "object ann :  {'bbox': [98, 271, 564, 394], 'category_id': 9}\n",
            "{'subject_id': 10, 'object_id': 9, 'category_id': 77}\n",
            "category ann :  person\n",
            "object ann :  {'bbox': [98, 271, 564, 394], 'category_id': 9}\n",
            "{'subject_id': 11, 'object_id': 9, 'category_id': 77}\n",
            "category ann :  person\n",
            "object ann :  {'bbox': [98, 271, 564, 394], 'category_id': 9}\n",
            "{'subject_id': 12, 'object_id': 9, 'category_id': 77}\n",
            "category ann :  person\n",
            "object ann :  {'bbox': [98, 271, 564, 394], 'category_id': 9}\n",
            "{'subject_id': 13, 'object_id': 14, 'category_id': 78}\n",
            "category ann :  person\n",
            "object ann :  {'bbox': [96, 278, 568, 399], 'category_id': 9}\n",
            "{'subject_id': 15, 'object_id': 16, 'category_id': 88}\n",
            "category ann :  person\n",
            "object ann :  {'bbox': [101, 256, 599, 413], 'category_id': 9}\n",
            "{'subject_id': 17, 'object_id': 16, 'category_id': 88}\n",
            "category ann :  person\n",
            "object ann :  {'bbox': [101, 256, 599, 413], 'category_id': 9}\n",
            "{'subject_id': 18, 'object_id': 16, 'category_id': 88}\n",
            "category ann :  person\n",
            "object ann :  {'bbox': [101, 256, 599, 413], 'category_id': 9}\n"
          ]
        },
        {
          "output_type": "stream",
          "name": "stderr",
          "text": [
            "\r 31%|███       | 31/100 [00:24<01:52,  1.63s/it]"
          ]
        },
        {
          "output_type": "stream",
          "name": "stdout",
          "text": [
            "{'subject_id': 19, 'object_id': 16, 'category_id': 88}\n",
            "category ann :  person\n",
            "object ann :  {'bbox': [101, 256, 599, 413], 'category_id': 9}\n"
          ]
        },
        {
          "output_type": "stream",
          "name": "stderr",
          "text": [
            " 33%|███▎      | 33/100 [00:24<00:59,  1.12it/s]"
          ]
        },
        {
          "output_type": "stream",
          "name": "stdout",
          "text": [
            "{'subject_id': 0, 'object_id': 1, 'category_id': 58}\n",
            "category ann :  person\n",
            "object ann :  {'bbox': [1, 257, 133, 305], 'category_id': 9}\n",
            "{'subject_id': 0, 'object_id': 1, 'category_id': 58}\n",
            "category ann :  person\n",
            "object ann :  {'bbox': [244, 125, 384, 586], 'category_id': 46}\n",
            "{'subject_id': 0, 'object_id': 1, 'category_id': 44}\n",
            "category ann :  person\n",
            "object ann :  {'bbox': [170, 69, 203, 111], 'category_id': 36}\n",
            "{'subject_id': 2, 'object_id': 3, 'category_id': 77}\n",
            "category ann :  person\n",
            "object ann :  {'bbox': [171, 66, 199, 106], 'category_id': 36}\n",
            "{'subject_id': 4, 'object_id': 5, 'category_id': 94}\n",
            "category ann :  person\n",
            "object ann :  {'bbox': [170, 69, 202, 112], 'category_id': 36}\n"
          ]
        },
        {
          "output_type": "stream",
          "name": "stderr",
          "text": [
            "\r 34%|███▍      | 34/100 [00:25<00:56,  1.17it/s]"
          ]
        },
        {
          "output_type": "stream",
          "name": "stdout",
          "text": [
            "{'subject_id': 6, 'object_id': 7, 'category_id': 115}\n",
            "category ann :  person\n",
            "object ann :  {'bbox': [172, 69, 203, 112], 'category_id': 36}\n"
          ]
        },
        {
          "output_type": "stream",
          "name": "stderr",
          "text": [
            "\r 35%|███▌      | 35/100 [00:25<00:42,  1.52it/s]"
          ]
        },
        {
          "output_type": "stream",
          "name": "stdout",
          "text": [
            "{'subject_id': 0, 'object_id': 1, 'category_id': 74}\n",
            "category ann :  person\n",
            "object ann :  {'bbox': [169, 235, 521, 401], 'category_id': 73}\n",
            "{'subject_id': 0, 'object_id': 1, 'category_id': 37}\n",
            "category ann :  person\n",
            "object ann :  {'bbox': [35, 163, 274, 398], 'category_id': 75}\n"
          ]
        },
        {
          "output_type": "stream",
          "name": "stderr",
          "text": [
            "\r 36%|███▌      | 36/100 [00:25<00:36,  1.74it/s]"
          ]
        },
        {
          "output_type": "stream",
          "name": "stdout",
          "text": [
            "{'subject_id': 2, 'object_id': 3, 'category_id': 69}\n",
            "category ann :  person\n",
            "object ann :  {'bbox': [58, 176, 258, 378], 'category_id': 75}\n",
            "{'subject_id': 0, 'object_id': 1, 'category_id': 9}\n",
            "category ann :  person\n",
            "object ann :  {'bbox': [3, 117, 633, 589], 'category_id': 2}\n",
            "{'subject_id': 2, 'object_id': 3, 'category_id': 37}\n",
            "category ann :  person\n",
            "object ann :  {'bbox': [1, 12, 637, 628], 'category_id': 2}\n",
            "{'subject_id': 4, 'object_id': 5, 'category_id': 42}\n",
            "category ann :  person\n",
            "object ann :  {'bbox': [2, 3, 637, 628], 'category_id': 2}\n",
            "{'subject_id': 6, 'object_id': 7, 'category_id': 88}\n",
            "category ann :  person\n",
            "object ann :  {'bbox': [40, 319, 172, 406], 'category_id': 2}\n"
          ]
        },
        {
          "output_type": "stream",
          "name": "stderr",
          "text": [
            "\r 37%|███▋      | 37/100 [00:26<00:41,  1.53it/s]"
          ]
        },
        {
          "output_type": "stream",
          "name": "stdout",
          "text": [
            "{'subject_id': 0, 'object_id': 1, 'category_id': 88}\n",
            "category ann :  person\n",
            "object ann :  {'bbox': [348, 128, 638, 423], 'category_id': 63}\n"
          ]
        },
        {
          "output_type": "stream",
          "name": "stderr",
          "text": [
            " 39%|███▉      | 39/100 [00:26<00:26,  2.34it/s]"
          ]
        },
        {
          "output_type": "stream",
          "name": "stdout",
          "text": [
            "{'subject_id': 0, 'object_id': 1, 'category_id': 58}\n",
            "category ann :  person\n",
            "object ann :  {'bbox': [157, 98, 343, 617], 'category_id': 46}\n",
            "{'subject_id': 0, 'object_id': 1, 'category_id': 58}"
          ]
        },
        {
          "output_type": "stream",
          "name": "stderr",
          "text": [
            "\r 40%|████      | 40/100 [00:27<00:21,  2.78it/s]"
          ]
        },
        {
          "output_type": "stream",
          "name": "stdout",
          "text": [
            "\n",
            "category ann :  person\n",
            "object ann :  {'bbox': [252, 157, 287, 188], 'category_id': 85}\n",
            "{'subject_id': 0, 'object_id': 1, 'category_id': 37}\n",
            "category ann :  person\n",
            "object ann :  {'bbox': [229, 201, 423, 381], 'category_id': 33}\n",
            "{'subject_id': 2, 'object_id': 3, 'category_id': 53}\n",
            "category ann :  person\n",
            "object ann :  {'bbox': [227, 209, 410, 346], 'category_id': 33}\n"
          ]
        },
        {
          "output_type": "stream",
          "name": "stderr",
          "text": [
            " 42%|████▏     | 42/100 [00:27<00:18,  3.13it/s]"
          ]
        },
        {
          "output_type": "stream",
          "name": "stdout",
          "text": [
            "{'subject_id': 0, 'object_id': 1, 'category_id': 37}\n",
            "category ann :  person\n",
            "object ann :  {'bbox': [217, 66, 415, 348], 'category_id': 84}\n",
            "{'subject_id': 0, 'object_id': 1, 'category_id': 33}\n",
            "category ann :  person\n",
            "object ann :  {'bbox': [250, 326, 347, 353], 'category_id': 41}\n",
            "{'subject_id': 2, 'object_id': 3, 'category_id': 77}\n",
            "category ann :  person\n",
            "object ann :  {'bbox': [241, 321, 391, 358], 'category_id': 41}\n"
          ]
        },
        {
          "output_type": "stream",
          "name": "stderr",
          "text": [
            "\r 43%|████▎     | 43/100 [00:28<00:22,  2.51it/s]"
          ]
        },
        {
          "output_type": "stream",
          "name": "stdout",
          "text": [
            "{'subject_id': 4, 'object_id': 5, 'category_id': 94}\n",
            "category ann :  person\n",
            "object ann :  {'bbox': [238, 327, 390, 358], 'category_id': 41}\n",
            "{'subject_id': 0, 'object_id': 1, 'category_id': 77}\n",
            "category ann :  person\n",
            "object ann :  {'bbox': [183, 200, 507, 399], 'category_id': 2}\n",
            "{'subject_id': 2, 'object_id': 3, 'category_id': 88}\n",
            "category ann :  person\n",
            "object ann :  {'bbox': [170, 206, 506, 399], 'category_id': 2}\n"
          ]
        },
        {
          "output_type": "stream",
          "name": "stderr",
          "text": [
            "\r 44%|████▍     | 44/100 [00:28<00:25,  2.22it/s]"
          ]
        },
        {
          "output_type": "stream",
          "name": "stdout",
          "text": [
            "{'subject_id': 4, 'object_id': 5, 'category_id': 99}\n",
            "category ann :  person\n",
            "object ann :  {'bbox': [182, 199, 506, 401], 'category_id': 2}\n",
            "{'subject_id': 0, 'object_id': 1, 'category_id': 58}\n",
            "category ann :  person\n",
            "object ann :  {'bbox': [19, 14, 629, 407], 'category_id': 3}\n",
            "{'subject_id': 2, 'object_id': 1, 'category_id': 58}\n",
            "category ann :  person\n",
            "object ann :  {'bbox': [19, 14, 629, 407], 'category_id': 3}\n",
            "{'subject_id': 3, 'object_id': 1, 'category_id': 58}\n",
            "category ann :  person\n",
            "object ann :  {'bbox': [19, 14, 629, 407], 'category_id': 3}\n",
            "{'subject_id': 4, 'object_id': 1, 'category_id': 58}\n",
            "category ann :  person\n",
            "object ann :  {'bbox': [19, 14, 629, 407], 'category_id': 3}\n"
          ]
        },
        {
          "output_type": "stream",
          "name": "stderr",
          "text": [
            "\r 45%|████▌     | 45/100 [00:29<00:29,  1.85it/s]"
          ]
        },
        {
          "output_type": "stream",
          "name": "stdout",
          "text": [
            "{'subject_id': 0, 'object_id': 1, 'category_id': 33}\n",
            "category ann :  person\n",
            "object ann :  {'bbox': [202, 318, 293, 393], 'category_id': 41}\n",
            "{'subject_id': 2, 'object_id': 3, 'category_id': 44}\n",
            "category ann :  person\n",
            "object ann :  {'bbox': [203, 326, 291, 391], 'category_id': 41}\n",
            "{'subject_id': 4, 'object_id': 5, 'category_id': 77}\n",
            "category ann :  person\n",
            "object ann :  {'bbox': [198, 324, 289, 394], 'category_id': 41}\n",
            "{'subject_id': 6, 'object_id': 7, 'category_id': 94}\n",
            "category ann :  person\n",
            "object ann :  {'bbox': [200, 324, 289, 404], 'category_id': 41}\n"
          ]
        },
        {
          "output_type": "stream",
          "name": "stderr",
          "text": [
            "\r 46%|████▌     | 46/100 [00:30<00:32,  1.67it/s]"
          ]
        },
        {
          "output_type": "stream",
          "name": "stdout",
          "text": [
            "{'subject_id': 0, 'object_id': 1, 'category_id': 9}\n",
            "category ann :  person\n",
            "object ann :  {'bbox': [132, 145, 289, 350], 'category_id': 27}\n",
            "{'subject_id': 2, 'object_id': 3, 'category_id': 115}\n",
            "category ann :  person\n",
            "object ann :  {'bbox': [135, 142, 291, 352], 'category_id': 27}\n"
          ]
        },
        {
          "output_type": "stream",
          "name": "stderr",
          "text": [
            "\r 47%|████▋     | 47/100 [00:30<00:28,  1.87it/s]"
          ]
        },
        {
          "output_type": "stream",
          "name": "stdout",
          "text": [
            "{'subject_id': 0, 'object_id': 1, 'category_id': 37}\n",
            "category ann :  person\n",
            "object ann :  {'bbox': [142, 168, 176, 197], 'category_id': 40}\n",
            "{'subject_id': 2, 'object_id': 3, 'category_id': 115}\n",
            "category ann :  person\n",
            "object ann :  {'bbox': [438, 57, 510, 159], 'category_id': 40}\n"
          ]
        },
        {
          "output_type": "stream",
          "name": "stderr",
          "text": [
            "\r 48%|████▊     | 48/100 [00:31<00:25,  2.05it/s]"
          ]
        },
        {
          "output_type": "stream",
          "name": "stdout",
          "text": [
            "{'subject_id': 0, 'object_id': 1, 'category_id': 37}\n",
            "category ann :  person\n",
            "object ann :  {'bbox': [119, 171, 506, 558], 'category_id': 4}\n",
            "{'subject_id': 2, 'object_id': 1, 'category_id': 37}\n",
            "category ann :  person\n",
            "object ann :  {'bbox': [119, 171, 506, 558], 'category_id': 4}\n",
            "{'subject_id': 3, 'object_id': 4, 'category_id': 77}\n",
            "category ann :  person\n",
            "object ann :  {'bbox': [118, 162, 517, 559], 'category_id': 4}\n",
            "{'subject_id': 5, 'object_id': 4, 'category_id': 77}\n",
            "category ann :  person\n",
            "object ann :  {'bbox': [118, 162, 517, 559], 'category_id': 4}\n",
            "{'subject_id': 6, 'object_id': 7, 'category_id': 88}\n",
            "category ann :  person\n",
            "object ann :  {'bbox': [108, 162, 514, 558], 'category_id': 4}\n",
            "{'subject_id': 8, 'object_id': 7, 'category_id': 88}\n",
            "category ann :  person\n",
            "object ann :  {'bbox': [108, 162, 514, 558], 'category_id': 4}\n",
            "{'subject_id': 9, 'object_id': 10, 'category_id': 99}\n",
            "category ann :  person\n",
            "object ann :  {'bbox': [178, 214, 504, 555], 'category_id': 4}\n",
            "{'subject_id': 11, 'object_id': 10, 'category_id': 99}\n",
            "category ann :  person\n",
            "object ann :  {'bbox': [178, 214, 504, 555], 'category_id': 4}\n"
          ]
        },
        {
          "output_type": "stream",
          "name": "stderr",
          "text": [
            " 50%|█████     | 50/100 [00:32<00:30,  1.64it/s]"
          ]
        },
        {
          "output_type": "stream",
          "name": "stdout",
          "text": [
            "{'subject_id': 0, 'object_id': 1, 'category_id': 88}\n",
            "category ann :  person\n",
            "object ann :  {'bbox': [326, 179, 493, 252], 'category_id': 15}\n",
            "{'subject_id': 0, 'object_id': 1, 'category_id': 77}\n",
            "category ann :  person\n",
            "object ann :  {'bbox': [279, 442, 364, 491], 'category_id': 36}\n",
            "{'subject_id': 2, 'object_id': 3, 'category_id': 94}\n",
            "category ann :  person\n",
            "object ann :  {'bbox': [285, 443, 359, 487], 'category_id': 36}\n",
            "{'subject_id': 4, 'object_id': 5, 'category_id': 115}\n",
            "category ann :  person\n",
            "object ann :  {'bbox': [280, 453, 359, 482], 'category_id': 36}\n"
          ]
        },
        {
          "output_type": "stream",
          "name": "stderr",
          "text": [
            "\r 51%|█████     | 51/100 [00:33<00:29,  1.68it/s]"
          ]
        },
        {
          "output_type": "stream",
          "name": "stdout",
          "text": [
            "{'subject_id': 0, 'object_id': 1, 'category_id': 31}\n",
            "category ann :  person\n",
            "object ann :  {'bbox': [113, 174, 164, 234], 'category_id': 38}\n",
            "{'subject_id': 2, 'object_id': 1, 'category_id': 31}\n",
            "category ann :  person\n",
            "object ann :  {'bbox': [113, 174, 164, 234], 'category_id': 38}\n",
            "{'subject_id': 3, 'object_id': 1, 'category_id': 31}\n",
            "category ann :  person\n",
            "object ann :  {'bbox': [113, 174, 164, 234], 'category_id': 38}\n",
            "{'subject_id': 4, 'object_id': 5, 'category_id': 71}\n",
            "category ann :  person\n",
            "object ann :  {'bbox': [122, 174, 167, 234], 'category_id': 38}\n"
          ]
        },
        {
          "output_type": "stream",
          "name": "stderr",
          "text": [
            "\r 52%|█████▏    | 52/100 [00:34<00:30,  1.56it/s]"
          ]
        },
        {
          "output_type": "stream",
          "name": "stdout",
          "text": [
            "{'subject_id': 0, 'object_id': 1, 'category_id': 44}\n",
            "category ann :  person\n",
            "object ann :  {'bbox': [279, 167, 438, 236], 'category_id': 35}\n",
            "{'subject_id': 2, 'object_id': 3, 'category_id': 77}\n",
            "category ann :  person\n",
            "object ann :  {'bbox': [279, 167, 425, 239], 'category_id': 35}\n"
          ]
        },
        {
          "output_type": "stream",
          "name": "stderr",
          "text": [
            "\r 53%|█████▎    | 53/100 [00:34<00:28,  1.63it/s]"
          ]
        },
        {
          "output_type": "stream",
          "name": "stdout",
          "text": [
            "{'subject_id': 4, 'object_id': 5, 'category_id': 115}\n",
            "category ann :  person\n",
            "object ann :  {'bbox': [278, 157, 423, 247], 'category_id': 35}\n",
            "{'subject_id': 0, 'object_id': 1, 'category_id': 31}\n",
            "category ann :  person\n",
            "object ann :  {'bbox': [77, 105, 426, 267], 'category_id': 5}\n",
            "{'subject_id': 2, 'object_id': 3, 'category_id': 31}\n",
            "category ann :  person\n",
            "object ann :  {'bbox': [110, 202, 610, 426], 'category_id': 5}\n",
            "{'subject_id': 4, 'object_id': 5, 'category_id': 77}\n",
            "category ann :  person\n",
            "object ann :  {'bbox': [81, 90, 422, 260], 'category_id': 5}\n",
            "{'subject_id': 6, 'object_id': 7, 'category_id': 77}\n",
            "category ann :  person\n",
            "object ann :  {'bbox': [104, 203, 612, 430], 'category_id': 5}\n",
            "{'subject_id': 8, 'object_id': 9, 'category_id': 88}\n",
            "category ann :  person\n",
            "object ann :  {'bbox': [66, 101, 423, 254], 'category_id': 5}\n",
            "{'subject_id': 10, 'object_id': 11, 'category_id': 88}\n",
            "category ann :  person\n",
            "object ann :  {'bbox': [100, 198, 618, 426], 'category_id': 5}\n"
          ]
        },
        {
          "output_type": "stream",
          "name": "stderr",
          "text": [
            " 55%|█████▌    | 55/100 [00:36<00:26,  1.70it/s]"
          ]
        },
        {
          "output_type": "stream",
          "name": "stdout",
          "text": [
            "{'subject_id': 0, 'object_id': 1, 'category_id': 58}\n",
            "category ann :  person\n",
            "object ann :  {'bbox': [621, 307, 638, 394], 'category_id': 70}\n",
            "{'subject_id': 0, 'object_id': 1, 'category_id': 76}\n",
            "category ann :  person\n",
            "object ann :  {'bbox': [133, 97, 273, 202], 'category_id': 72}\n"
          ]
        },
        {
          "output_type": "stream",
          "name": "stderr",
          "text": [
            "\r 56%|█████▌    | 56/100 [00:36<00:20,  2.13it/s]"
          ]
        },
        {
          "output_type": "stream",
          "name": "stdout",
          "text": [
            "{'subject_id': 0, 'object_id': 1, 'category_id': 36}\n",
            "category ann :  person\n",
            "object ann :  {'bbox': [118, 360, 167, 411], 'category_id': 37}\n",
            "{'subject_id': 2, 'object_id': 3, 'category_id': 45}\n",
            "category ann :  person\n",
            "object ann :  {'bbox': [115, 361, 171, 407], 'category_id': 37}\n"
          ]
        },
        {
          "output_type": "stream",
          "name": "stderr",
          "text": [
            "\r 57%|█████▋    | 57/100 [00:36<00:18,  2.27it/s]"
          ]
        },
        {
          "output_type": "stream",
          "name": "stdout",
          "text": [
            "{'subject_id': 0, 'object_id': 1, 'category_id': 5}\n",
            "category ann :  person\n",
            "object ann :  {'bbox': [2, 39, 628, 343], 'category_id': 5}\n",
            "{'subject_id': 2, 'object_id': 1, 'category_id': 5}\n",
            "category ann :  person\n",
            "object ann :  {'bbox': [2, 39, 628, 343], 'category_id': 5}\n"
          ]
        },
        {
          "output_type": "stream",
          "name": "stderr",
          "text": [
            "\r 58%|█████▊    | 58/100 [00:36<00:17,  2.37it/s]"
          ]
        },
        {
          "output_type": "stream",
          "name": "stdout",
          "text": [
            "{'subject_id': 0, 'object_id': 1, 'category_id': 31}\n",
            "category ann :  person\n",
            "object ann :  {'bbox': [255, 29, 315, 77], 'category_id': 38}\n",
            "{'subject_id': 2, 'object_id': 3, 'category_id': 71}\n",
            "category ann :  person\n",
            "object ann :  {'bbox': [261, 28, 313, 86], 'category_id': 38}\n"
          ]
        },
        {
          "output_type": "stream",
          "name": "stderr",
          "text": [
            "\r 59%|█████▉    | 59/100 [00:37<00:16,  2.46it/s]"
          ]
        },
        {
          "output_type": "stream",
          "name": "stdout",
          "text": [
            "{'subject_id': 0, 'object_id': 1, 'category_id': 77}\n",
            "category ann :  person\n",
            "object ann :  {'bbox': [137, 176, 201, 220], 'category_id': 41}\n",
            "{'subject_id': 2, 'object_id': 3, 'category_id': 94}\n",
            "category ann :  person\n",
            "object ann :  {'bbox': [134, 185, 199, 232], 'category_id': 41}\n"
          ]
        },
        {
          "output_type": "stream",
          "name": "stderr",
          "text": [
            "\r 60%|██████    | 60/100 [00:37<00:15,  2.53it/s]"
          ]
        },
        {
          "output_type": "stream",
          "name": "stdout",
          "text": [
            "{'subject_id': 0, 'object_id': 1, 'category_id': 37}\n",
            "category ann :  person\n",
            "object ann :  {'bbox': [216, 150, 448, 413], 'category_id': 2}\n",
            "{'subject_id': 2, 'object_id': 3, 'category_id': 77}\n",
            "category ann :  person\n",
            "object ann :  {'bbox': [208, 150, 457, 420], 'category_id': 2}\n",
            "{'subject_id': 4, 'object_id': 5, 'category_id': 88}\n",
            "category ann :  person\n",
            "object ann :  {'bbox': [198, 155, 497, 416], 'category_id': 2}\n",
            "{'subject_id': 6, 'object_id': 7, 'category_id': 99}\n",
            "category ann :  person\n",
            "object ann :  {'bbox': [217, 152, 422, 416], 'category_id': 2}\n"
          ]
        },
        {
          "output_type": "stream",
          "name": "stderr",
          "text": [
            " 62%|██████▏   | 62/100 [00:38<00:15,  2.45it/s]"
          ]
        },
        {
          "output_type": "stream",
          "name": "stdout",
          "text": [
            "{'subject_id': 0, 'object_id': 1, 'category_id': 37}\n",
            "category ann :  person\n",
            "object ann :  {'bbox': [264, 183, 481, 399], 'category_id': 73}\n",
            "{'subject_id': 0, 'object_id': 1, 'category_id': 31}\n",
            "category ann :  person\n",
            "object ann :  {'bbox': [40, 82, 238, 201], 'category_id': 38}\n"
          ]
        },
        {
          "output_type": "stream",
          "name": "stderr",
          "text": [
            "\r 63%|██████▎   | 63/100 [00:39<00:14,  2.50it/s]"
          ]
        },
        {
          "output_type": "stream",
          "name": "stdout",
          "text": [
            "{'subject_id': 2, 'object_id': 3, 'category_id': 71}\n",
            "category ann :  person\n",
            "object ann :  {'bbox': [40, 74, 242, 206], 'category_id': 38}\n",
            "{'subject_id': 0, 'object_id': 1, 'category_id': 9}\n",
            "category ann :  person\n",
            "object ann :  {'bbox': [282, 82, 543, 423], 'category_id': 38}\n",
            "{'subject_id': 2, 'object_id': 3, 'category_id': 31}\n",
            "category ann :  person\n",
            "object ann :  {'bbox': [295, 84, 535, 184], 'category_id': 38}\n"
          ]
        },
        {
          "output_type": "stream",
          "name": "stderr",
          "text": [
            "\r 64%|██████▍   | 64/100 [00:39<00:16,  2.21it/s]"
          ]
        },
        {
          "output_type": "stream",
          "name": "stdout",
          "text": [
            "{'subject_id': 4, 'object_id': 5, 'category_id': 37}\n",
            "category ann :  person\n",
            "object ann :  {'bbox': [303, 78, 539, 181], 'category_id': 38}\n"
          ]
        },
        {
          "output_type": "stream",
          "name": "stderr",
          "text": [
            "\r 65%|██████▌   | 65/100 [00:39<00:13,  2.63it/s]"
          ]
        },
        {
          "output_type": "stream",
          "name": "stdout",
          "text": [
            "{'subject_id': 0, 'object_id': 1, 'category_id': 16}\n",
            "category ann :  person\n",
            "object ann :  {'bbox': [1, 270, 244, 475], 'category_id': 61}\n"
          ]
        },
        {
          "output_type": "stream",
          "name": "stderr",
          "text": [
            "\r 66%|██████▌   | 66/100 [00:40<00:11,  3.04it/s]"
          ]
        },
        {
          "output_type": "stream",
          "name": "stdout",
          "text": [
            "{'subject_id': 0, 'object_id': 1, 'category_id': 58}\n",
            "category ann :  person\n",
            "object ann :  {'bbox': [336, 59, 638, 475], 'category_id': 46}\n",
            "{'subject_id': 0, 'object_id': 1, 'category_id': 9}\n",
            "category ann :  person\n",
            "object ann :  {'bbox': [218, 388, 384, 590], 'category_id': 47}\n",
            "{'subject_id': 2, 'object_id': 3, 'category_id': 21}\n",
            "category ann :  person\n",
            "object ann :  {'bbox': [243, 391, 348, 584], 'category_id': 47}\n",
            "{'subject_id': 4, 'object_id': 5, 'category_id': 42}\n",
            "category ann :  person\n",
            "object ann :  {'bbox': [239, 390, 373, 615], 'category_id': 47}\n"
          ]
        },
        {
          "output_type": "stream",
          "name": "stderr",
          "text": [
            "\r 67%|██████▋   | 67/100 [00:40<00:13,  2.48it/s]"
          ]
        },
        {
          "output_type": "stream",
          "name": "stdout",
          "text": [
            "{'subject_id': 0, 'object_id': 1, 'category_id': 113}\n",
            "category ann :  person\n",
            "object ann :  {'bbox': [223, 83, 373, 373], 'category_id': 25}\n",
            "{'subject_id': 2, 'object_id': 1, 'category_id': 113}\n",
            "category ann :  person\n",
            "object ann :  {'bbox': [223, 83, 373, 373], 'category_id': 25}\n",
            "{'subject_id': 3, 'object_id': 1, 'category_id': 113}\n",
            "category ann :  person\n",
            "object ann :  {'bbox': [223, 83, 373, 373], 'category_id': 25}\n",
            "{'subject_id': 4, 'object_id': 1, 'category_id': 113}\n",
            "category ann :  person\n",
            "object ann :  {'bbox': [223, 83, 373, 373], 'category_id': 25}\n",
            "{'subject_id': 5, 'object_id': 1, 'category_id': 113}\n",
            "category ann :  person\n",
            "object ann :  {'bbox': [223, 83, 373, 373], 'category_id': 25}\n",
            "{'subject_id': 6, 'object_id': 1, 'category_id': 113}\n",
            "category ann :  person\n",
            "object ann :  {'bbox': [223, 83, 373, 373], 'category_id': 25}\n",
            "{'subject_id': 7, 'object_id': 1, 'category_id': 113}\n",
            "category ann :  person\n",
            "object ann :  {'bbox': [223, 83, 373, 373], 'category_id': 25}\n",
            "{'subject_id': 8, 'object_id': 1, 'category_id': 113}\n",
            "category ann :  person\n",
            "object ann :  {'bbox': [223, 83, 373, 373], 'category_id': 25}\n"
          ]
        },
        {
          "output_type": "stream",
          "name": "stderr",
          "text": [
            " 69%|██████▉   | 69/100 [00:42<00:17,  1.79it/s]"
          ]
        },
        {
          "output_type": "stream",
          "name": "stdout",
          "text": [
            "{'subject_id': 0, 'object_id': 1, 'category_id': 76}\n",
            "category ann :  person\n",
            "object ann :  {'bbox': [46, 450, 451, 638], 'category_id': 73}\n",
            "{'subject_id': 0, 'object_id': 1, 'category_id': 77}\n",
            "category ann :  person\n",
            "object ann :  {'bbox': [190, 168, 494, 254], 'category_id': 9}\n",
            "{'subject_id': 2, 'object_id': 3, 'category_id': 78}\n",
            "category ann :  person\n",
            "object ann :  {'bbox': [192, 188, 480, 254], 'category_id': 9}\n",
            "{'subject_id': 4, 'object_id': 5, 'category_id': 88}\n",
            "category ann :  person\n",
            "object ann :  {'bbox': [179, 188, 482, 255], 'category_id': 9}\n"
          ]
        },
        {
          "output_type": "stream",
          "name": "stderr",
          "text": [
            "\r 70%|███████   | 70/100 [00:42<00:16,  1.81it/s]"
          ]
        },
        {
          "output_type": "stream",
          "name": "stdout",
          "text": [
            "{'subject_id': 0, 'object_id': 1, 'category_id': 77}\n",
            "category ann :  person\n",
            "object ann :  {'bbox': [175, 471, 361, 504], 'category_id': 42}\n",
            "{'subject_id': 2, 'object_id': 3, 'category_id': 94}\n",
            "category ann :  person\n",
            "object ann :  {'bbox': [155, 474, 403, 532], 'category_id': 42}\n"
          ]
        },
        {
          "output_type": "stream",
          "name": "stderr",
          "text": [
            "\r 71%|███████   | 71/100 [00:43<00:14,  2.00it/s]"
          ]
        },
        {
          "output_type": "stream",
          "name": "stdout",
          "text": [
            "{'subject_id': 0, 'object_id': 1, 'category_id': 88}\n",
            "category ann :  person\n",
            "object ann :  {'bbox': [227, 117, 413, 365], 'category_id': 62}\n",
            "{'subject_id': 2, 'object_id': 3, 'category_id': 88}\n",
            "category ann :  person\n",
            "object ann :  {'bbox': [14, 100, 194, 337], 'category_id': 62}\n"
          ]
        },
        {
          "output_type": "stream",
          "name": "stderr",
          "text": [
            "\r 72%|███████▏  | 72/100 [00:43<00:14,  1.95it/s]"
          ]
        },
        {
          "output_type": "stream",
          "name": "stdout",
          "text": [
            "{'subject_id': 4, 'object_id': 5, 'category_id': 88}\n",
            "category ann :  person\n",
            "object ann :  {'bbox': [425, 112, 629, 346], 'category_id': 62}\n",
            "{'subject_id': 0, 'object_id': 1, 'category_id': 9}\n",
            "category ann :  person\n",
            "object ann :  {'bbox': [87, 178, 202, 303], 'category_id': 47}\n"
          ]
        },
        {
          "output_type": "stream",
          "name": "stderr",
          "text": [
            "\r 73%|███████▎  | 73/100 [00:44<00:12,  2.12it/s]"
          ]
        },
        {
          "output_type": "stream",
          "name": "stdout",
          "text": [
            "{'subject_id': 2, 'object_id': 3, 'category_id': 37}\n",
            "category ann :  person\n",
            "object ann :  {'bbox': [81, 159, 211, 322], 'category_id': 47}\n",
            "{'subject_id': 0, 'object_id': 1, 'category_id': 37}\n",
            "category ann :  person\n",
            "object ann :  {'bbox': [38, 16, 262, 212], 'category_id': 4}\n",
            "{'subject_id': 2, 'object_id': 3, 'category_id': 37}\n",
            "category ann :  person\n",
            "object ann :  {'bbox': [78, 69, 589, 377], 'category_id': 4}\n",
            "{'subject_id': 4, 'object_id': 5, 'category_id': 77}\n",
            "category ann :  person\n",
            "object ann :  {'bbox': [36, 20, 255, 175], 'category_id': 4}\n",
            "{'subject_id': 6, 'object_id': 7, 'category_id': 77}\n",
            "category ann :  person\n",
            "object ann :  {'bbox': [80, 68, 560, 404], 'category_id': 4}\n",
            "{'subject_id': 8, 'object_id': 9, 'category_id': 88}\n",
            "category ann :  person\n",
            "object ann :  {'bbox': [45, 26, 264, 181], 'category_id': 4}\n",
            "{'subject_id': 10, 'object_id': 11, 'category_id': 88}\n",
            "category ann :  person\n",
            "object ann :  {'bbox': [83, 83, 571, 401], 'category_id': 4}\n",
            "{'subject_id': 12, 'object_id': 13, 'category_id': 99}\n",
            "category ann :  person\n",
            "object ann :  {'bbox': [84, 37, 558, 402], 'category_id': 4}\n",
            "{'subject_id': 14, 'object_id': 15, 'category_id': 109}\n",
            "category ann :  person\n",
            "object ann :  {'bbox': [48, 29, 250, 174], 'category_id': 4}\n",
            "{'subject_id': 16, 'object_id': 17, 'category_id': 109}\n",
            "category ann :  person\n",
            "object ann :  {'bbox': [74, 89, 542, 401], 'category_id': 4}\n"
          ]
        },
        {
          "output_type": "stream",
          "name": "stderr",
          "text": [
            "\r 74%|███████▍  | 74/100 [00:45<00:21,  1.23it/s]"
          ]
        },
        {
          "output_type": "stream",
          "name": "stdout",
          "text": [
            "{'subject_id': 0, 'object_id': 1, 'category_id': 77}\n",
            "category ann :  person\n",
            "object ann :  {'bbox': [244, 374, 269, 388], 'category_id': 35}\n",
            "{'subject_id': 2, 'object_id': 3, 'category_id': 94}\n",
            "category ann :  person\n",
            "object ann :  {'bbox': [158, 311, 165, 317], 'category_id': 35}\n",
            "{'subject_id': 4, 'object_id': 5, 'category_id': 94}\n",
            "category ann :  person\n",
            "object ann :  {'bbox': [117, 321, 130, 326], 'category_id': 35}\n",
            "{'subject_id': 6, 'object_id': 7, 'category_id': 94}\n",
            "category ann :  person\n",
            "object ann :  {'bbox': [273, 304, 282, 309], 'category_id': 35}\n",
            "{'subject_id': 8, 'object_id': 9, 'category_id': 94}\n",
            "category ann :  person\n",
            "object ann :  {'bbox': [34, 325, 46, 336], 'category_id': 35}\n",
            "{'subject_id': 10, 'object_id': 11, 'category_id': 94}\n",
            "category ann :  person\n",
            "object ann :  {'bbox': [347, 334, 360, 346], 'category_id': 35}\n",
            "{'subject_id': 12, 'object_id': 13, 'category_id': 94}\n",
            "category ann :  person\n",
            "object ann :  {'bbox': [252, 373, 269, 383], 'category_id': 35}\n",
            "{'subject_id': 14, 'object_id': 15, 'category_id': 115}\n",
            "category ann :  person\n",
            "object ann :  {'bbox': [226, 285, 256, 302], 'category_id': 35}\n"
          ]
        },
        {
          "output_type": "stream",
          "name": "stderr",
          "text": [
            "\r 75%|███████▌  | 75/100 [00:47<00:25,  1.02s/it]"
          ]
        },
        {
          "output_type": "stream",
          "name": "stdout",
          "text": [
            "{'subject_id': 0, 'object_id': 1, 'category_id': 9}\n",
            "category ann :  person\n",
            "object ann :  {'bbox': [180, 134, 320, 237], 'category_id': 42}\n",
            "{'subject_id': 2, 'object_id': 3, 'category_id': 37}\n",
            "category ann :  person\n",
            "object ann :  {'bbox': [154, 127, 335, 243], 'category_id': 42}\n"
          ]
        },
        {
          "output_type": "stream",
          "name": "stderr",
          "text": [
            "\r 76%|███████▌  | 76/100 [00:47<00:19,  1.22it/s]"
          ]
        },
        {
          "output_type": "stream",
          "name": "stdout",
          "text": [
            "{'subject_id': 0, 'object_id': 1, 'category_id': 37}\n",
            "category ann :  person\n",
            "object ann :  {'bbox': [49, 191, 383, 633], 'category_id': 18}\n",
            "{'subject_id': 2, 'object_id': 3, 'category_id': 40}\n",
            "category ann :  person\n",
            "object ann :  {'bbox': [69, 169, 358, 596], 'category_id': 18}\n",
            "{'subject_id': 4, 'object_id': 5, 'category_id': 46}\n",
            "category ann :  person\n",
            "object ann :  {'bbox': [44, 189, 387, 637], 'category_id': 18}\n"
          ]
        },
        {
          "output_type": "stream",
          "name": "stderr",
          "text": [
            "\r 77%|███████▋  | 77/100 [00:48<00:17,  1.31it/s]"
          ]
        },
        {
          "output_type": "stream",
          "name": "stdout",
          "text": [
            "{'subject_id': 0, 'object_id': 1, 'category_id': 37}\n",
            "category ann :  person\n",
            "object ann :  {'bbox': [94, 84, 570, 411], 'category_id': 4}\n",
            "{'subject_id': 2, 'object_id': 3, 'category_id': 77}\n",
            "category ann :  person\n",
            "object ann :  {'bbox': [111, 100, 567, 405], 'category_id': 4}\n"
          ]
        },
        {
          "output_type": "stream",
          "name": "stderr",
          "text": [
            "\r 78%|███████▊  | 78/100 [00:48<00:15,  1.43it/s]"
          ]
        },
        {
          "output_type": "stream",
          "name": "stdout",
          "text": [
            "{'subject_id': 4, 'object_id': 5, 'category_id': 88}\n",
            "category ann :  person\n",
            "object ann :  {'bbox': [110, 103, 573, 401], 'category_id': 4}\n",
            "{'subject_id': 0, 'object_id': 1, 'category_id': 77}\n",
            "category ann :  person\n",
            "object ann :  {'bbox': [96, 157, 521, 379], 'category_id': 19}\n",
            "{'subject_id': 2, 'object_id': 3, 'category_id': 79}\n",
            "category ann :  person\n",
            "object ann :  {'bbox': [112, 169, 530, 375], 'category_id': 19}\n"
          ]
        },
        {
          "output_type": "stream",
          "name": "stderr",
          "text": [
            "\r 79%|███████▉  | 79/100 [00:49<00:12,  1.63it/s]"
          ]
        },
        {
          "output_type": "stream",
          "name": "stdout",
          "text": [
            "{'subject_id': 0, 'object_id': 1, 'category_id': 10}\n",
            "category ann :  person\n",
            "object ann :  {'bbox': [363, 72, 423, 111], 'category_id': 34}\n",
            "{'subject_id': 2, 'object_id': 1, 'category_id': 10}\n",
            "category ann :  person\n",
            "object ann :  {'bbox': [363, 72, 423, 111], 'category_id': 34}\n"
          ]
        },
        {
          "output_type": "stream",
          "name": "stderr",
          "text": [
            "\r 80%|████████  | 80/100 [00:49<00:11,  1.67it/s]"
          ]
        },
        {
          "output_type": "stream",
          "name": "stdout",
          "text": [
            "{'subject_id': 3, 'object_id': 4, 'category_id': 37}\n",
            "category ann :  person\n",
            "object ann :  {'bbox': [371, 80, 407, 102], 'category_id': 34}\n",
            "{'subject_id': 0, 'object_id': 1, 'category_id': 58}\n",
            "category ann :  person\n",
            "object ann :  {'bbox': [135, 105, 451, 247], 'category_id': 59}\n"
          ]
        },
        {
          "output_type": "stream",
          "name": "stderr",
          "text": [
            "\r 81%|████████  | 81/100 [00:50<00:10,  1.88it/s]"
          ]
        },
        {
          "output_type": "stream",
          "name": "stdout",
          "text": [
            "{'subject_id': 0, 'object_id': 2, 'category_id': 58}\n",
            "category ann :  person\n",
            "object ann :  {'bbox': [8, 251, 476, 638], 'category_id': 59}\n",
            "{'subject_id': 0, 'object_id': 1, 'category_id': 9}\n",
            "category ann :  person\n",
            "object ann :  {'bbox': [99, 65, 323, 104], 'category_id': 42}\n",
            "{'subject_id': 2, 'object_id': 3, 'category_id': 37}\n",
            "category ann :  person\n",
            "object ann :  {'bbox': [99, 63, 331, 121], 'category_id': 42}\n",
            "{'subject_id': 4, 'object_id': 5, 'category_id': 37}\n",
            "category ann :  person\n",
            "object ann :  {'bbox': [346, 256, 640, 424], 'category_id': 42}\n"
          ]
        },
        {
          "output_type": "stream",
          "name": "stderr",
          "text": [
            "\r 82%|████████▏ | 82/100 [00:50<00:09,  1.87it/s]"
          ]
        },
        {
          "output_type": "stream",
          "name": "stdout",
          "text": [
            "{'subject_id': 0, 'object_id': 1, 'category_id': 9}\n",
            "category ann :  person\n",
            "object ann :  {'bbox': [177, 278, 241, 363], 'category_id': 27}\n",
            "{'subject_id': 2, 'object_id': 3, 'category_id': 115}\n",
            "category ann :  person\n",
            "object ann :  {'bbox': [179, 276, 235, 360], 'category_id': 27}\n"
          ]
        },
        {
          "output_type": "stream",
          "name": "stderr",
          "text": [
            "\r 83%|████████▎ | 83/100 [00:50<00:08,  2.07it/s]"
          ]
        },
        {
          "output_type": "stream",
          "name": "stdout",
          "text": [
            "{'subject_id': 0, 'object_id': 1, 'category_id': 33}\n",
            "category ann :  person\n",
            "object ann :  {'bbox': [294, 174, 340, 229], 'category_id': 41}\n",
            "{'subject_id': 2, 'object_id': 3, 'category_id': 77}\n",
            "category ann :  person\n",
            "object ann :  {'bbox': [294, 189, 336, 233], 'category_id': 41}\n"
          ]
        },
        {
          "output_type": "stream",
          "name": "stderr",
          "text": [
            "\r 84%|████████▍ | 84/100 [00:51<00:07,  2.23it/s]"
          ]
        },
        {
          "output_type": "stream",
          "name": "stdout",
          "text": [
            "{'subject_id': 0, 'object_id': 1, 'category_id': 24}\n",
            "category ann :  person\n",
            "object ann :  {'bbox': [487, 145, 531, 209], 'category_id': 54}\n",
            "{'subject_id': 2, 'object_id': 3, 'category_id': 37}\n",
            "category ann :  person\n",
            "object ann :  {'bbox': [470, 140, 537, 215], 'category_id': 54}\n"
          ]
        },
        {
          "output_type": "stream",
          "name": "stderr",
          "text": [
            "\r 85%|████████▌ | 85/100 [00:51<00:07,  2.08it/s]"
          ]
        },
        {
          "output_type": "stream",
          "name": "stdout",
          "text": [
            "{'subject_id': 4, 'object_id': 5, 'category_id': 37}\n",
            "category ann :  person\n",
            "object ann :  {'bbox': [205, 282, 263, 352], 'category_id': 54}\n",
            "{'subject_id': 0, 'object_id': 1, 'category_id': 88}\n",
            "category ann :  person\n",
            "object ann :  {'bbox': [104, 321, 434, 425], 'category_id': 15}\n"
          ]
        },
        {
          "output_type": "stream",
          "name": "stderr",
          "text": [
            "\r 86%|████████▌ | 86/100 [00:52<00:05,  2.54it/s]"
          ]
        },
        {
          "output_type": "stream",
          "name": "stdout",
          "text": [
            "{'subject_id': 0, 'object_id': 1, 'category_id': 77}\n",
            "category ann :  person\n",
            "object ann :  {'bbox': [1, 185, 463, 475], 'category_id': 9}\n",
            "{'subject_id': 2, 'object_id': 3, 'category_id': 78}\n",
            "category ann :  person\n",
            "object ann :  {'bbox': [2, 214, 466, 477], 'category_id': 9}\n"
          ]
        },
        {
          "output_type": "stream",
          "name": "stderr",
          "text": [
            "\r 87%|████████▋ | 87/100 [00:52<00:05,  2.24it/s]"
          ]
        },
        {
          "output_type": "stream",
          "name": "stdout",
          "text": [
            "{'subject_id': 4, 'object_id': 5, 'category_id': 88}\n",
            "category ann :  person\n",
            "object ann :  {'bbox': [3, 212, 462, 474], 'category_id': 9}\n",
            "{'subject_id': 0, 'object_id': 1, 'category_id': 39}\n",
            "category ann :  person\n",
            "object ann :  {'bbox': [98, 186, 635, 452], 'category_id': 3}\n",
            "{'subject_id': 2, 'object_id': 3, 'category_id': 42}\n",
            "category ann :  person\n",
            "object ann :  {'bbox': [95, 192, 637, 445], 'category_id': 3}\n",
            "{'subject_id': 4, 'object_id': 3, 'category_id': 42}\n",
            "category ann :  person\n",
            "object ann :  {'bbox': [95, 192, 637, 445], 'category_id': 3}\n",
            "{'subject_id': 5, 'object_id': 6, 'category_id': 112}\n",
            "category ann :  person\n",
            "object ann :  {'bbox': [88, 170, 638, 443], 'category_id': 3}\n",
            "{'subject_id': 7, 'object_id': 6, 'category_id': 112}\n",
            "category ann :  person\n",
            "object ann :  {'bbox': [88, 170, 638, 443], 'category_id': 3}\n",
            "{'subject_id': 8, 'object_id': 6, 'category_id': 112}\n",
            "category ann :  person\n",
            "object ann :  {'bbox': [88, 170, 638, 443], 'category_id': 3}\n",
            "{'subject_id': 9, 'object_id': 6, 'category_id': 112}\n",
            "category ann :  person\n",
            "object ann :  {'bbox': [88, 170, 638, 443], 'category_id': 3}\n",
            "{'subject_id': 10, 'object_id': 6, 'category_id': 112}\n",
            "category ann :  person\n",
            "object ann :  {'bbox': [88, 170, 638, 443], 'category_id': 3}\n",
            "{'subject_id': 11, 'object_id': 6, 'category_id': 112}\n",
            "category ann :  person\n",
            "object ann :  {'bbox': [88, 170, 638, 443], 'category_id': 3}\n"
          ]
        },
        {
          "output_type": "stream",
          "name": "stderr",
          "text": [
            "\r 88%|████████▊ | 88/100 [00:54<00:09,  1.25it/s]"
          ]
        },
        {
          "output_type": "stream",
          "name": "stdout",
          "text": [
            "{'subject_id': 0, 'object_id': 1, 'category_id': 9}\n",
            "category ann :  person\n",
            "object ann :  {'bbox': [487, 52, 638, 167], 'category_id': 28}\n",
            "{'subject_id': 2, 'object_id': 3, 'category_id': 9}\n",
            "category ann :  person\n",
            "object ann :  {'bbox': [539, 96, 636, 270], 'category_id': 28}\n",
            "{'subject_id': 4, 'object_id': 5, 'category_id': 9}\n",
            "category ann :  person\n",
            "object ann :  {'bbox': [2, 85, 228, 309], 'category_id': 28}\n",
            "{'subject_id': 6, 'object_id': 7, 'category_id': 9}\n",
            "category ann :  person\n",
            "object ann :  {'bbox': [84, 65, 243, 291], 'category_id': 28}\n",
            "{'subject_id': 8, 'object_id': 9, 'category_id': 37}\n",
            "category ann :  person\n",
            "object ann :  {'bbox': [78, 54, 242, 258], 'category_id': 28}\n",
            "{'subject_id': 10, 'object_id': 11, 'category_id': 37}\n",
            "category ann :  person\n",
            "object ann :  {'bbox': [533, 96, 634, 228], 'category_id': 28}\n"
          ]
        },
        {
          "output_type": "stream",
          "name": "stderr",
          "text": [
            "\r 89%|████████▉ | 89/100 [00:55<00:09,  1.13it/s]"
          ]
        },
        {
          "output_type": "stream",
          "name": "stdout",
          "text": [
            "{'subject_id': 0, 'object_id': 1, 'category_id': 77}\n",
            "category ann :  person\n",
            "object ann :  {'bbox': [106, 222, 312, 618], 'category_id': 22}\n",
            "{'subject_id': 2, 'object_id': 1, 'category_id': 77}\n",
            "category ann :  person\n",
            "object ann :  {'bbox': [106, 222, 312, 618], 'category_id': 22}\n"
          ]
        },
        {
          "output_type": "stream",
          "name": "stderr",
          "text": [
            " 91%|█████████ | 91/100 [00:55<00:05,  1.77it/s]"
          ]
        },
        {
          "output_type": "stream",
          "name": "stdout",
          "text": [
            "{'subject_id': 0, 'object_id': 1, 'category_id': 88}\n",
            "category ann :  person\n",
            "object ann :  {'bbox': [2, 170, 425, 631], 'category_id': 63}\n",
            "{'subject_id': 0, 'object_id': 1, 'category_id': 50}\n",
            "category ann :  person\n",
            "object ann :  {'bbox': [2, 155, 348, 389], 'category_id': 63}\n"
          ]
        },
        {
          "output_type": "stream",
          "name": "stderr",
          "text": [
            "\r 92%|█████████▏| 92/100 [00:56<00:04,  1.97it/s]"
          ]
        },
        {
          "output_type": "stream",
          "name": "stdout",
          "text": [
            "{'subject_id': 2, 'object_id': 3, 'category_id': 88}\n",
            "category ann :  person\n",
            "object ann :  {'bbox': [317, 227, 635, 423], 'category_id': 63}\n",
            "{'subject_id': 0, 'object_id': 1, 'category_id': 22}\n",
            "category ann :  person\n",
            "object ann :  {'bbox': [114, 204, 438, 336], 'category_id': 9}\n",
            "{'subject_id': 2, 'object_id': 3, 'category_id': 77}\n",
            "category ann :  person\n",
            "object ann :  {'bbox': [120, 211, 439, 331], 'category_id': 9}\n",
            "{'subject_id': 4, 'object_id': 3, 'category_id': 77}\n",
            "category ann :  person\n",
            "object ann :  {'bbox': [120, 211, 439, 331], 'category_id': 9}\n",
            "{'subject_id': 5, 'object_id': 6, 'category_id': 88}\n",
            "category ann :  person\n",
            "object ann :  {'bbox': [118, 209, 439, 323], 'category_id': 9}\n",
            "{'subject_id': 7, 'object_id': 6, 'category_id': 88}\n",
            "category ann :  person\n",
            "object ann :  {'bbox': [118, 209, 439, 323], 'category_id': 9}\n"
          ]
        },
        {
          "output_type": "stream",
          "name": "stderr",
          "text": [
            "\r 93%|█████████▎| 93/100 [00:57<00:04,  1.61it/s]"
          ]
        },
        {
          "output_type": "stream",
          "name": "stdout",
          "text": [
            "{'subject_id': 0, 'object_id': 1, 'category_id': 59}\n",
            "category ann :  person\n",
            "object ann :  {'bbox': [259, 62, 638, 255], 'category_id': 84}\n",
            "{'subject_id': 2, 'object_id': 3, 'category_id': 74}\n",
            "category ann :  person\n",
            "object ann :  {'bbox': [259, 74, 638, 267], 'category_id': 84}\n"
          ]
        },
        {
          "output_type": "stream",
          "name": "stderr",
          "text": [
            " 95%|█████████▌| 95/100 [00:57<00:02,  2.28it/s]"
          ]
        },
        {
          "output_type": "stream",
          "name": "stdout",
          "text": [
            "{'subject_id': 0, 'object_id': 1, 'category_id': 28}\n",
            "category ann :  person\n",
            "object ann :  {'bbox': [178, 228, 314, 333], 'category_id': 47}\n",
            "{'subject_id': 0, 'object_id': 1, 'category_id': 88}\n",
            "category ann :  person\n",
            "object ann :  {'bbox': [45, 517, 221, 585], 'category_id': 15}\n"
          ]
        },
        {
          "output_type": "stream",
          "name": "stderr",
          "text": [
            "\r 96%|█████████▌| 96/100 [00:58<00:01,  2.41it/s]"
          ]
        },
        {
          "output_type": "stream",
          "name": "stdout",
          "text": [
            "{'subject_id': 2, 'object_id': 1, 'category_id': 88}\n",
            "category ann :  person\n",
            "object ann :  {'bbox': [45, 517, 221, 585], 'category_id': 15}\n",
            "{'subject_id': 0, 'object_id': 1, 'category_id': 44}\n",
            "category ann :  person\n",
            "object ann :  {'bbox': [262, 169, 349, 200], 'category_id': 41}\n"
          ]
        },
        {
          "output_type": "stream",
          "name": "stderr",
          "text": [
            "\r 97%|█████████▋| 97/100 [00:58<00:01,  2.51it/s]"
          ]
        },
        {
          "output_type": "stream",
          "name": "stdout",
          "text": [
            "{'subject_id': 2, 'object_id': 3, 'category_id': 77}\n",
            "category ann :  person\n",
            "object ann :  {'bbox': [264, 171, 342, 204], 'category_id': 41}\n",
            "{'subject_id': 0, 'object_id': 1, 'category_id': 115}\n",
            "category ann :  person\n",
            "object ann :  {'bbox': [40, 343, 275, 394], 'category_id': 36}\n"
          ]
        },
        {
          "output_type": "stream",
          "name": "stderr",
          "text": [
            "\r 98%|█████████▊| 98/100 [00:58<00:00,  2.99it/s]"
          ]
        },
        {
          "output_type": "stream",
          "name": "stdout",
          "text": [
            "{'subject_id': 0, 'object_id': 1, 'category_id': 9}\n",
            "category ann :  person\n",
            "object ann :  {'bbox': [119, 241, 190, 381], 'category_id': 27}\n",
            "{'subject_id': 2, 'object_id': 3, 'category_id': 115}\n",
            "category ann :  person\n",
            "object ann :  {'bbox': [119, 250, 232, 377], 'category_id': 27}\n"
          ]
        },
        {
          "output_type": "stream",
          "name": "stderr",
          "text": [
            "100%|██████████| 100/100 [00:59<00:00,  1.69it/s]"
          ]
        },
        {
          "output_type": "stream",
          "name": "stdout",
          "text": [
            "{'subject_id': 0, 'object_id': 1, 'category_id': 88}\n",
            "category ann :  person\n",
            "object ann :  {'bbox': [9, 85, 635, 413], 'category_id': 15}\n"
          ]
        },
        {
          "output_type": "stream",
          "name": "stderr",
          "text": [
            "\n"
          ]
        }
      ]
    },
    {
      "cell_type": "code",
      "source": [
        "from google.colab import files\n",
        "\n",
        "# Compress the folder into a ZIP file\n",
        "!zip -r hico.zip hico\n",
        "\n",
        "# Download the ZIP file\n",
        "files.download('hico.zip')\n"
      ],
      "metadata": {
        "colab": {
          "base_uri": "https://localhost:8080/",
          "height": 1000
        },
        "id": "hPXNxT0kK-ts",
        "outputId": "b3834631-a79a-495d-f01a-ece8bc60be28"
      },
      "execution_count": 15,
      "outputs": [
        {
          "output_type": "stream",
          "name": "stdout",
          "text": [
            "  adding: hico/ (stored 0%)\n",
            "  adding: hico/images/ (stored 0%)\n",
            "  adding: hico/images/.ipynb_checkpoints/ (stored 0%)\n",
            "  adding: hico/images/test2015/ (stored 0%)\n",
            "  adding: hico/images/test2015/HICO_test2015_00000074.jpg (deflated 12%)\n",
            "  adding: hico/images/test2015/HICO_test2015_00000096.jpg (deflated 0%)\n",
            "  adding: hico/images/test2015/HICO_test2015_00000094.jpg (deflated 7%)\n",
            "  adding: hico/images/test2015/HICO_test2015_00000033.jpg (deflated 0%)\n",
            "  adding: hico/images/test2015/HICO_test2015_00000084.jpg (deflated 11%)\n",
            "  adding: hico/images/test2015/HICO_test2015_00000029.jpg (deflated 2%)\n",
            "  adding: hico/images/test2015/HICO_test2015_00000056.jpg (deflated 7%)\n",
            "  adding: hico/images/test2015/HICO_test2015_00000036.jpg (deflated 1%)\n",
            "  adding: hico/images/test2015/HICO_test2015_00000022.jpg (deflated 5%)\n",
            "  adding: hico/images/test2015/HICO_test2015_00000034.jpg (deflated 8%)\n",
            "  adding: hico/images/test2015/HICO_test2015_00000060.jpg (deflated 2%)\n",
            "  adding: hico/images/test2015/HICO_test2015_00000068.jpg (deflated 3%)\n",
            "  adding: hico/images/test2015/HICO_test2015_00000045.jpg (deflated 4%)\n",
            "  adding: hico/images/test2015/HICO_test2015_00000100.jpg (deflated 9%)\n",
            "  adding: hico/images/test2015/HICO_test2015_00000063.jpg (deflated 1%)\n",
            "  adding: hico/images/test2015/HICO_test2015_00000091.jpg (deflated 6%)\n",
            "  adding: hico/images/test2015/HICO_test2015_00000005.jpg (deflated 1%)\n",
            "  adding: hico/images/test2015/HICO_test2015_00000025.jpg (deflated 1%)\n",
            "  adding: hico/images/test2015/HICO_test2015_00000095.jpg (deflated 3%)\n",
            "  adding: hico/images/test2015/HICO_test2015_00000085.jpg (deflated 12%)\n",
            "  adding: hico/images/test2015/HICO_test2015_00000069.jpg (deflated 5%)\n",
            "  adding: hico/images/test2015/HICO_test2015_00000055.jpg (deflated 3%)\n",
            "  adding: hico/images/test2015/HICO_test2015_00000059.jpg (deflated 1%)\n",
            "  adding: hico/images/test2015/HICO_test2015_00000008.jpg (deflated 5%)\n",
            "  adding: hico/images/test2015/HICO_test2015_00000087.jpg (deflated 4%)\n",
            "  adding: hico/images/test2015/HICO_test2015_00000080.jpg (deflated 1%)\n",
            "  adding: hico/images/test2015/HICO_test2015_00000088.jpg (deflated 1%)\n",
            "  adding: hico/images/test2015/HICO_test2015_00000038.jpg (deflated 2%)\n",
            "  adding: hico/images/test2015/HICO_test2015_00000052.jpg (deflated 10%)\n",
            "  adding: hico/images/test2015/HICO_test2015_00000049.jpg (deflated 5%)\n",
            "  adding: hico/images/test2015/HICO_test2015_00000021.jpg (deflated 0%)\n",
            "  adding: hico/images/test2015/HICO_test2015_00000073.jpg (deflated 4%)\n",
            "  adding: hico/images/test2015/HICO_test2015_00000077.jpg (deflated 9%)\n",
            "  adding: hico/images/test2015/HICO_test2015_00000020.jpg (deflated 1%)\n",
            "  adding: hico/images/test2015/HICO_test2015_00000003.jpg (deflated 24%)\n",
            "  adding: hico/images/test2015/HICO_test2015_00000004.jpg (deflated 0%)\n",
            "  adding: hico/images/test2015/HICO_test2015_00000054.jpg (deflated 15%)\n",
            "  adding: hico/images/test2015/HICO_test2015_00000092.jpg (deflated 5%)\n",
            "  adding: hico/images/test2015/HICO_test2015_00000064.jpg (deflated 12%)\n",
            "  adding: hico/images/test2015/HICO_test2015_00000018.jpg (deflated 5%)\n",
            "  adding: hico/images/test2015/HICO_test2015_00000071.jpg (deflated 4%)\n",
            "  adding: hico/images/test2015/HICO_test2015_00000061.jpg (deflated 6%)\n",
            "  adding: hico/images/test2015/HICO_test2015_00000075.jpg (deflated 7%)\n",
            "  adding: hico/images/test2015/HICO_test2015_00000040.jpg (deflated 8%)\n",
            "  adding: hico/images/test2015/HICO_test2015_00000027.jpg (deflated 1%)\n",
            "  adding: hico/images/test2015/HICO_test2015_00000011.jpg (deflated 11%)\n",
            "  adding: hico/images/test2015/HICO_test2015_00000031.jpg (deflated 10%)\n",
            "  adding: hico/images/test2015/HICO_test2015_00000015.jpg (deflated 0%)\n",
            "  adding: hico/images/test2015/HICO_test2015_00000037.jpg (deflated 1%)\n",
            "  adding: hico/images/test2015/HICO_test2015_00000079.jpg (deflated 4%)\n",
            "  adding: hico/images/test2015/HICO_test2015_00000013.jpg (deflated 5%)\n",
            "  adding: hico/images/test2015/HICO_test2015_00000023.jpg (deflated 1%)\n",
            "  adding: hico/images/test2015/HICO_test2015_00000043.jpg (deflated 18%)\n",
            "  adding: hico/images/test2015/HICO_test2015_00000016.jpg (deflated 9%)\n",
            "  adding: hico/images/test2015/HICO_test2015_00000066.jpg (deflated 3%)\n",
            "  adding: hico/images/test2015/HICO_test2015_00000014.jpg (deflated 1%)\n",
            "  adding: hico/images/test2015/HICO_test2015_00000090.jpg (deflated 0%)\n",
            "  adding: hico/images/test2015/HICO_test2015_00000026.jpg (deflated 2%)\n",
            "  adding: hico/images/test2015/HICO_test2015_00000065.jpg (deflated 1%)\n",
            "  adding: hico/images/test2015/HICO_test2015_00000041.jpg (deflated 1%)\n",
            "  adding: hico/images/test2015/HICO_test2015_00000093.jpg (deflated 8%)\n",
            "  adding: hico/images/test2015/HICO_test2015_00000089.jpg (deflated 8%)\n",
            "  adding: hico/images/test2015/HICO_test2015_00000019.jpg (deflated 3%)\n",
            "  adding: hico/images/test2015/HICO_test2015_00000099.jpg (deflated 0%)\n",
            "  adding: hico/images/test2015/HICO_test2015_00000006.jpg (deflated 1%)\n",
            "  adding: hico/images/test2015/HICO_test2015_00000082.jpg (deflated 14%)\n",
            "  adding: hico/images/test2015/HICO_test2015_00000048.jpg (deflated 5%)\n",
            "  adding: hico/images/test2015/HICO_test2015_00000044.jpg (deflated 3%)\n",
            "  adding: hico/images/test2015/HICO_test2015_00000081.jpg (deflated 2%)\n",
            "  adding: hico/images/test2015/HICO_test2015_00000017.jpg (deflated 2%)\n",
            "  adding: hico/images/test2015/HICO_test2015_00000076.jpg (deflated 17%)\n",
            "  adding: hico/images/test2015/HICO_test2015_00000078.jpg (deflated 6%)\n",
            "  adding: hico/images/test2015/HICO_test2015_00000039.jpg (deflated 4%)\n",
            "  adding: hico/images/test2015/HICO_test2015_00000050.jpg (deflated 18%)\n",
            "  adding: hico/images/test2015/HICO_test2015_00000083.jpg (deflated 12%)\n",
            "  adding: hico/images/test2015/HICO_test2015_00000086.jpg (deflated 22%)\n",
            "  adding: hico/images/test2015/HICO_test2015_00000097.jpg (deflated 4%)\n",
            "  adding: hico/images/test2015/HICO_test2015_00000057.jpg (deflated 2%)\n",
            "  adding: hico/images/test2015/HICO_test2015_00000053.jpg (deflated 0%)\n",
            "  adding: hico/images/test2015/HICO_test2015_00000030.jpg (deflated 10%)\n",
            "  adding: hico/images/test2015/HICO_test2015_00000010.jpg (deflated 7%)\n",
            "  adding: hico/images/test2015/HICO_test2015_00000067.jpg (deflated 0%)\n",
            "  adding: hico/images/test2015/HICO_test2015_00000024.jpg (deflated 11%)\n",
            "  adding: hico/images/test2015/HICO_test2015_00000032.jpg (deflated 4%)\n",
            "  adding: hico/images/test2015/HICO_test2015_00000047.jpg (deflated 5%)\n",
            "  adding: hico/images/test2015/HICO_test2015_00000062.jpg (deflated 4%)\n",
            "  adding: hico/images/test2015/HICO_test2015_00000012.jpg (deflated 36%)\n",
            "  adding: hico/images/test2015/HICO_test2015_00000072.jpg (deflated 1%)\n",
            "  adding: hico/images/test2015/HICO_test2015_00000028.jpg (deflated 6%)\n",
            "  adding: hico/images/test2015/HICO_test2015_00000009.jpg (deflated 2%)\n",
            "  adding: hico/images/test2015/HICO_test2015_00000007.jpg (deflated 0%)\n",
            "  adding: hico/images/test2015/HICO_test2015_00000035.jpg (deflated 2%)\n",
            "  adding: hico/images/test2015/HICO_test2015_00000046.jpg (deflated 24%)\n",
            "  adding: hico/images/test2015/HICO_test2015_00000001.jpg (deflated 6%)\n",
            "  adding: hico/images/test2015/HICO_test2015_00000070.jpg (deflated 8%)\n",
            "  adding: hico/images/test2015/HICO_test2015_00000098.jpg (deflated 9%)\n",
            "  adding: hico/images/test2015/HICO_test2015_00000058.jpg (deflated 8%)\n",
            "  adding: hico/images/test2015/HICO_test2015_00000051.jpg (deflated 0%)\n",
            "  adding: hico/images/test2015/HICO_test2015_00000042.jpg (deflated 7%)\n",
            "  adding: hico/images/test2015/HICO_test2015_00000002.jpg (deflated 0%)\n",
            "  adding: hico/annotations/ (stored 0%)\n",
            "  adding: hico/annotations/test_hico.json (deflated 86%)\n",
            "  adding: hico/annotations/.ipynb_checkpoints/ (stored 0%)\n",
            "  adding: hico/.ipynb_checkpoints/ (stored 0%)\n"
          ]
        },
        {
          "output_type": "display_data",
          "data": {
            "text/plain": [
              "<IPython.core.display.Javascript object>"
            ],
            "application/javascript": [
              "\n",
              "    async function download(id, filename, size) {\n",
              "      if (!google.colab.kernel.accessAllowed) {\n",
              "        return;\n",
              "      }\n",
              "      const div = document.createElement('div');\n",
              "      const label = document.createElement('label');\n",
              "      label.textContent = `Downloading \"${filename}\": `;\n",
              "      div.appendChild(label);\n",
              "      const progress = document.createElement('progress');\n",
              "      progress.max = size;\n",
              "      div.appendChild(progress);\n",
              "      document.body.appendChild(div);\n",
              "\n",
              "      const buffers = [];\n",
              "      let downloaded = 0;\n",
              "\n",
              "      const channel = await google.colab.kernel.comms.open(id);\n",
              "      // Send a message to notify the kernel that we're ready.\n",
              "      channel.send({})\n",
              "\n",
              "      for await (const message of channel.messages) {\n",
              "        // Send a message to notify the kernel that we're ready.\n",
              "        channel.send({})\n",
              "        if (message.buffers) {\n",
              "          for (const buffer of message.buffers) {\n",
              "            buffers.push(buffer);\n",
              "            downloaded += buffer.byteLength;\n",
              "            progress.value = downloaded;\n",
              "          }\n",
              "        }\n",
              "      }\n",
              "      const blob = new Blob(buffers, {type: 'application/binary'});\n",
              "      const a = document.createElement('a');\n",
              "      a.href = window.URL.createObjectURL(blob);\n",
              "      a.download = filename;\n",
              "      div.appendChild(a);\n",
              "      a.click();\n",
              "      div.remove();\n",
              "    }\n",
              "  "
            ]
          },
          "metadata": {}
        },
        {
          "output_type": "display_data",
          "data": {
            "text/plain": [
              "<IPython.core.display.Javascript object>"
            ],
            "application/javascript": [
              "download(\"download_df1c8037-cccf-4251-9310-08451f852026\", \"hico.zip\", 15844612)"
            ]
          },
          "metadata": {}
        }
      ]
    },
    {
      "cell_type": "code",
      "source": [],
      "metadata": {
        "id": "mwpM427nQjNN"
      },
      "execution_count": null,
      "outputs": []
    }
  ]
}